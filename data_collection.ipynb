{
 "cells": [
  {
   "cell_type": "markdown",
   "metadata": {},
   "source": [
    "# <font color='red'> Data collection - Part 1</font>"
   ]
  },
  {
   "cell_type": "code",
   "execution_count": 88,
   "outputs": [],
   "source": [
    "import os\n",
    "import json\n",
    "import praw"
   ],
   "metadata": {
    "collapsed": false,
    "ExecuteTime": {
     "end_time": "2023-05-27T11:22:56.702244700Z",
     "start_time": "2023-05-27T11:22:56.686619300Z"
    }
   }
  },
  {
   "cell_type": "markdown",
   "metadata": {},
   "source": [
    "Enter your user name, client id, and client secret to create a read-only reddit instance."
   ]
  },
  {
   "cell_type": "code",
   "execution_count": 90,
   "metadata": {
    "scrolled": true,
    "tags": [],
    "ExecuteTime": {
     "end_time": "2023-05-27T11:23:24.051658900Z",
     "start_time": "2023-05-27T11:23:24.036014500Z"
    }
   },
   "outputs": [],
   "source": [
    "creds = json.load(open(\"creds.json\"))\n",
    "\n",
    "username = creds.get(\"username\")\n",
    "clientid = creds.get(\"clientid\")\n",
    "clientsecret = creds.get(\"clientsecret\")\n",
    "\n",
    "reddit = praw.Reddit(client_id=clientid,\n",
    "                     client_secret=clientsecret,\n",
    "                     user_agent='data collection (by {})'.format(username),\n",
    "                    redirect_uri='http://localhost:8000',)"
   ]
  },
  {
   "cell_type": "markdown",
   "metadata": {
    "jp-MarkdownHeadingCollapsed": true,
    "tags": []
   },
   "source": [
    "## Retrieving and saving data - praw"
   ]
  },
  {
   "cell_type": "markdown",
   "metadata": {},
   "source": [
    "We can do a search for key words in a specific subreddit or all of them.<br>\n",
    "\n",
    "For example let's serach for the phrase *I feel guilty* in all subreddits:"
   ]
  },
  {
   "cell_type": "code",
   "execution_count": 56,
   "metadata": {
    "tags": [],
    "ExecuteTime": {
     "end_time": "2023-05-27T10:36:31.841987600Z",
     "start_time": "2023-05-27T10:36:18.381837500Z"
    }
   },
   "outputs": [],
   "source": [
    "import pandas as pd\n",
    "from datetime import datetime\n",
    "\n",
    "\n",
    "counter = 0\n",
    "posts_table = []\n",
    "column_names = [\"Index\", \"subreddit\", \"post_time\",\n",
    "                \"user_name\", \"title\", \"text\",\n",
    "                \"num_comments\", \"score\", \"ups\", \"upvote_ratio\", \n",
    "                \"downs\", 'downvote', \n",
    "                \"URL\",  \n",
    "               \"over18\"]\n",
    "\n",
    "subreddit = \"AutisticAdults\"\n",
    "results = reddit.subreddit(subreddit).new(limit=200)\n",
    "for p in results: # p is a reddit post\n",
    "    counter += 1\n",
    "    # Add the post to the table\n",
    "    posts_table.append([counter, p.subreddit, datetime.utcfromtimestamp(p.created),\n",
    "                        p.author, p.title, p.selftext,\n",
    "                        p.num_comments, p.score, p.ups, p.upvote_ratio,\n",
    "                        p.downs, p.downvote,\n",
    "                        p.permalink\n",
    "                       , p.over_18])\n",
    "    \n",
    "\n",
    "posts_df = pd.DataFrame(posts_table, columns=column_names)"
   ]
  },
  {
   "cell_type": "code",
   "execution_count": 57,
   "metadata": {
    "tags": [],
    "ExecuteTime": {
     "end_time": "2023-05-27T10:36:31.857435500Z",
     "start_time": "2023-05-27T10:36:31.841987600Z"
    }
   },
   "outputs": [],
   "source": [
    "posts_df.to_csv(\"postsASD.csv\", index=False) # index=False - do not save the default index column"
   ]
  },
  {
   "cell_type": "code",
   "execution_count": 58,
   "metadata": {
    "collapsed": true,
    "jupyter": {
     "outputs_hidden": true
    },
    "tags": [],
    "ExecuteTime": {
     "end_time": "2023-05-27T10:36:31.888682Z",
     "start_time": "2023-05-27T10:36:31.857435500Z"
    }
   },
   "outputs": [
    {
     "data": {
      "text/plain": "   Index       subreddit           post_time            user_name   \n0      1  AutisticAdults 2023-05-27 10:11:19   stephenharoldsmith  \\\n1      2  AutisticAdults 2023-05-27 09:22:56               ezm_ob   \n2      3  AutisticAdults 2023-05-27 08:57:34          Solid-Ad-75   \n3      4  AutisticAdults 2023-05-27 06:14:39        luna_bea_tuna   \n4      5  AutisticAdults 2023-05-27 04:33:12  Putrid-Occasion1881   \n\n                                               title   \n0                       Diagnosed this day last week  \\\n1  My friend is convenienced that dietary choices...   \n2          Is it ableism when neurotypicals do this?   \n3  Realisation - why I like cartoons / kids shows...   \n4                              Autism and BPD? *Vent   \n\n                                                text  num_comments  score   \n0  I'm just putting this out there. I was diagnos...             0      2  \\\n1  \\nMy friend (doesn't know im autistic) goes to...             0      2   \n2  Sometimes someone will say something that does...             0      3   \n3  A sudden realisation while watching cartoons w...             3      7   \n4  I got diagnosed with autism as an adult but I ...             1      1   \n\n   ups  upvote_ratio  downs   \n0    2           1.0      0  \\\n1    2           1.0      0   \n2    3           1.0      0   \n3    7           0.9      0   \n4    1           1.0      0   \n\n                                            downvote   \n0  <bound method VotableMixin.downvote of Submiss...  \\\n1  <bound method VotableMixin.downvote of Submiss...   \n2  <bound method VotableMixin.downvote of Submiss...   \n3  <bound method VotableMixin.downvote of Submiss...   \n4  <bound method VotableMixin.downvote of Submiss...   \n\n                                                 URL  over18  \n0  /r/AutisticAdults/comments/13t3lnl/diagnosed_t...   False  \n1  /r/AutisticAdults/comments/13t2ta8/my_friend_i...   False  \n2  /r/AutisticAdults/comments/13t2e19/is_it_ablei...   False  \n3  /r/AutisticAdults/comments/13szrun/realisation...   False  \n4  /r/AutisticAdults/comments/13sxz75/autism_and_...   False  ",
      "text/html": "<div>\n<style scoped>\n    .dataframe tbody tr th:only-of-type {\n        vertical-align: middle;\n    }\n\n    .dataframe tbody tr th {\n        vertical-align: top;\n    }\n\n    .dataframe thead th {\n        text-align: right;\n    }\n</style>\n<table border=\"1\" class=\"dataframe\">\n  <thead>\n    <tr style=\"text-align: right;\">\n      <th></th>\n      <th>Index</th>\n      <th>subreddit</th>\n      <th>post_time</th>\n      <th>user_name</th>\n      <th>title</th>\n      <th>text</th>\n      <th>num_comments</th>\n      <th>score</th>\n      <th>ups</th>\n      <th>upvote_ratio</th>\n      <th>downs</th>\n      <th>downvote</th>\n      <th>URL</th>\n      <th>over18</th>\n    </tr>\n  </thead>\n  <tbody>\n    <tr>\n      <th>0</th>\n      <td>1</td>\n      <td>AutisticAdults</td>\n      <td>2023-05-27 10:11:19</td>\n      <td>stephenharoldsmith</td>\n      <td>Diagnosed this day last week</td>\n      <td>I'm just putting this out there. I was diagnos...</td>\n      <td>0</td>\n      <td>2</td>\n      <td>2</td>\n      <td>1.0</td>\n      <td>0</td>\n      <td>&lt;bound method VotableMixin.downvote of Submiss...</td>\n      <td>/r/AutisticAdults/comments/13t3lnl/diagnosed_t...</td>\n      <td>False</td>\n    </tr>\n    <tr>\n      <th>1</th>\n      <td>2</td>\n      <td>AutisticAdults</td>\n      <td>2023-05-27 09:22:56</td>\n      <td>ezm_ob</td>\n      <td>My friend is convenienced that dietary choices...</td>\n      <td>\\nMy friend (doesn't know im autistic) goes to...</td>\n      <td>0</td>\n      <td>2</td>\n      <td>2</td>\n      <td>1.0</td>\n      <td>0</td>\n      <td>&lt;bound method VotableMixin.downvote of Submiss...</td>\n      <td>/r/AutisticAdults/comments/13t2ta8/my_friend_i...</td>\n      <td>False</td>\n    </tr>\n    <tr>\n      <th>2</th>\n      <td>3</td>\n      <td>AutisticAdults</td>\n      <td>2023-05-27 08:57:34</td>\n      <td>Solid-Ad-75</td>\n      <td>Is it ableism when neurotypicals do this?</td>\n      <td>Sometimes someone will say something that does...</td>\n      <td>0</td>\n      <td>3</td>\n      <td>3</td>\n      <td>1.0</td>\n      <td>0</td>\n      <td>&lt;bound method VotableMixin.downvote of Submiss...</td>\n      <td>/r/AutisticAdults/comments/13t2e19/is_it_ablei...</td>\n      <td>False</td>\n    </tr>\n    <tr>\n      <th>3</th>\n      <td>4</td>\n      <td>AutisticAdults</td>\n      <td>2023-05-27 06:14:39</td>\n      <td>luna_bea_tuna</td>\n      <td>Realisation - why I like cartoons / kids shows...</td>\n      <td>A sudden realisation while watching cartoons w...</td>\n      <td>3</td>\n      <td>7</td>\n      <td>7</td>\n      <td>0.9</td>\n      <td>0</td>\n      <td>&lt;bound method VotableMixin.downvote of Submiss...</td>\n      <td>/r/AutisticAdults/comments/13szrun/realisation...</td>\n      <td>False</td>\n    </tr>\n    <tr>\n      <th>4</th>\n      <td>5</td>\n      <td>AutisticAdults</td>\n      <td>2023-05-27 04:33:12</td>\n      <td>Putrid-Occasion1881</td>\n      <td>Autism and BPD? *Vent</td>\n      <td>I got diagnosed with autism as an adult but I ...</td>\n      <td>1</td>\n      <td>1</td>\n      <td>1</td>\n      <td>1.0</td>\n      <td>0</td>\n      <td>&lt;bound method VotableMixin.downvote of Submiss...</td>\n      <td>/r/AutisticAdults/comments/13sxz75/autism_and_...</td>\n      <td>False</td>\n    </tr>\n  </tbody>\n</table>\n</div>"
     },
     "execution_count": 58,
     "metadata": {},
     "output_type": "execute_result"
    }
   ],
   "source": [
    "posts_df.head()"
   ]
  },
  {
   "cell_type": "code",
   "execution_count": 64,
   "outputs": [
    {
     "data": {
      "text/plain": "175"
     },
     "execution_count": 64,
     "metadata": {},
     "output_type": "execute_result"
    }
   ],
   "source": [
    "len(posts_df.user_name.unique())"
   ],
   "metadata": {
    "collapsed": false,
    "ExecuteTime": {
     "end_time": "2023-05-27T10:59:23.874999500Z",
     "start_time": "2023-05-27T10:59:23.859373500Z"
    }
   }
  },
  {
   "cell_type": "code",
   "execution_count": 70,
   "outputs": [],
   "source": [
    "user_asd_original = posts_df.user_name.unique()"
   ],
   "metadata": {
    "collapsed": false,
    "ExecuteTime": {
     "end_time": "2023-05-27T11:10:12.485919Z",
     "start_time": "2023-05-27T11:10:12.474913200Z"
    }
   }
  },
  {
   "cell_type": "markdown",
   "source": [
    "## Save all user submissions"
   ],
   "metadata": {
    "collapsed": false
   }
  },
  {
   "cell_type": "code",
   "execution_count": 60,
   "metadata": {
    "tags": [],
    "ExecuteTime": {
     "end_time": "2023-05-27T10:49:46.559370200Z",
     "start_time": "2023-05-27T10:36:50.340745700Z"
    }
   },
   "outputs": [
    {
     "ename": "ValueError",
     "evalue": "16 columns passed, passed data had 14 columns",
     "output_type": "error",
     "traceback": [
      "\u001B[1;31m---------------------------------------------------------------------------\u001B[0m",
      "\u001B[1;31mAssertionError\u001B[0m                            Traceback (most recent call last)",
      "File \u001B[1;32m~\\PycharmProjects\\venv\\lib\\site-packages\\pandas\\core\\internals\\construction.py:934\u001B[0m, in \u001B[0;36m_finalize_columns_and_data\u001B[1;34m(content, columns, dtype)\u001B[0m\n\u001B[0;32m    933\u001B[0m \u001B[38;5;28;01mtry\u001B[39;00m:\n\u001B[1;32m--> 934\u001B[0m     columns \u001B[38;5;241m=\u001B[39m \u001B[43m_validate_or_indexify_columns\u001B[49m\u001B[43m(\u001B[49m\u001B[43mcontents\u001B[49m\u001B[43m,\u001B[49m\u001B[43m \u001B[49m\u001B[43mcolumns\u001B[49m\u001B[43m)\u001B[49m\n\u001B[0;32m    935\u001B[0m \u001B[38;5;28;01mexcept\u001B[39;00m \u001B[38;5;167;01mAssertionError\u001B[39;00m \u001B[38;5;28;01mas\u001B[39;00m err:\n\u001B[0;32m    936\u001B[0m     \u001B[38;5;66;03m# GH#26429 do not raise user-facing AssertionError\u001B[39;00m\n",
      "File \u001B[1;32m~\\PycharmProjects\\venv\\lib\\site-packages\\pandas\\core\\internals\\construction.py:981\u001B[0m, in \u001B[0;36m_validate_or_indexify_columns\u001B[1;34m(content, columns)\u001B[0m\n\u001B[0;32m    979\u001B[0m \u001B[38;5;28;01mif\u001B[39;00m \u001B[38;5;129;01mnot\u001B[39;00m is_mi_list \u001B[38;5;129;01mand\u001B[39;00m \u001B[38;5;28mlen\u001B[39m(columns) \u001B[38;5;241m!=\u001B[39m \u001B[38;5;28mlen\u001B[39m(content):  \u001B[38;5;66;03m# pragma: no cover\u001B[39;00m\n\u001B[0;32m    980\u001B[0m     \u001B[38;5;66;03m# caller's responsibility to check for this...\u001B[39;00m\n\u001B[1;32m--> 981\u001B[0m     \u001B[38;5;28;01mraise\u001B[39;00m \u001B[38;5;167;01mAssertionError\u001B[39;00m(\n\u001B[0;32m    982\u001B[0m         \u001B[38;5;124mf\u001B[39m\u001B[38;5;124m\"\u001B[39m\u001B[38;5;132;01m{\u001B[39;00m\u001B[38;5;28mlen\u001B[39m(columns)\u001B[38;5;132;01m}\u001B[39;00m\u001B[38;5;124m columns passed, passed data had \u001B[39m\u001B[38;5;124m\"\u001B[39m\n\u001B[0;32m    983\u001B[0m         \u001B[38;5;124mf\u001B[39m\u001B[38;5;124m\"\u001B[39m\u001B[38;5;132;01m{\u001B[39;00m\u001B[38;5;28mlen\u001B[39m(content)\u001B[38;5;132;01m}\u001B[39;00m\u001B[38;5;124m columns\u001B[39m\u001B[38;5;124m\"\u001B[39m\n\u001B[0;32m    984\u001B[0m     )\n\u001B[0;32m    985\u001B[0m \u001B[38;5;28;01mif\u001B[39;00m is_mi_list:\n\u001B[0;32m    986\u001B[0m     \u001B[38;5;66;03m# check if nested list column, length of each sub-list should be equal\u001B[39;00m\n",
      "\u001B[1;31mAssertionError\u001B[0m: 16 columns passed, passed data had 14 columns",
      "\nThe above exception was the direct cause of the following exception:\n",
      "\u001B[1;31mValueError\u001B[0m                                Traceback (most recent call last)",
      "Cell \u001B[1;32mIn[60], line 22\u001B[0m\n\u001B[0;32m     16\u001B[0m         counter \u001B[38;5;241m+\u001B[39m\u001B[38;5;241m=\u001B[39m \u001B[38;5;241m1\u001B[39m\n\u001B[0;32m     17\u001B[0m         submission_comments_table\u001B[38;5;241m.\u001B[39mappend([counter, \u001B[38;5;124m\"\u001B[39m\u001B[38;5;124myes\u001B[39m\u001B[38;5;124m\"\u001B[39m, p\u001B[38;5;241m.\u001B[39msubreddit, datetime\u001B[38;5;241m.\u001B[39mutcfromtimestamp(p\u001B[38;5;241m.\u001B[39mcreated), \n\u001B[0;32m     18\u001B[0m                             p\u001B[38;5;241m.\u001B[39mauthor, p\u001B[38;5;241m.\u001B[39mtitle, p\u001B[38;5;241m.\u001B[39mselftext, \n\u001B[0;32m     19\u001B[0m                             p\u001B[38;5;241m.\u001B[39mnum_comments, p\u001B[38;5;241m.\u001B[39mscore, p\u001B[38;5;241m.\u001B[39mups, p\u001B[38;5;241m.\u001B[39mupvote_ratio, \n\u001B[0;32m     20\u001B[0m                             p\u001B[38;5;241m.\u001B[39mdowns, p\u001B[38;5;241m.\u001B[39mdownvote,  p\u001B[38;5;241m.\u001B[39mlikes,\n\u001B[0;32m     21\u001B[0m                             p\u001B[38;5;241m.\u001B[39mpermalink,  p\u001B[38;5;241m.\u001B[39mover_18])\n\u001B[1;32m---> 22\u001B[0m posts_df_all \u001B[38;5;241m=\u001B[39m \u001B[43mpd\u001B[49m\u001B[38;5;241;43m.\u001B[39;49m\u001B[43mDataFrame\u001B[49m\u001B[43m(\u001B[49m\u001B[43mposts_table\u001B[49m\u001B[43m,\u001B[49m\u001B[43m \u001B[49m\u001B[43mcolumns\u001B[49m\u001B[38;5;241;43m=\u001B[39;49m\u001B[43mcolumn_names\u001B[49m\u001B[43m)\u001B[49m\n",
      "File \u001B[1;32m~\\PycharmProjects\\venv\\lib\\site-packages\\pandas\\core\\frame.py:782\u001B[0m, in \u001B[0;36mDataFrame.__init__\u001B[1;34m(self, data, index, columns, dtype, copy)\u001B[0m\n\u001B[0;32m    780\u001B[0m     \u001B[38;5;28;01mif\u001B[39;00m columns \u001B[38;5;129;01mis\u001B[39;00m \u001B[38;5;129;01mnot\u001B[39;00m \u001B[38;5;28;01mNone\u001B[39;00m:\n\u001B[0;32m    781\u001B[0m         columns \u001B[38;5;241m=\u001B[39m ensure_index(columns)\n\u001B[1;32m--> 782\u001B[0m     arrays, columns, index \u001B[38;5;241m=\u001B[39m \u001B[43mnested_data_to_arrays\u001B[49m\u001B[43m(\u001B[49m\n\u001B[0;32m    783\u001B[0m \u001B[43m        \u001B[49m\u001B[38;5;66;43;03m# error: Argument 3 to \"nested_data_to_arrays\" has incompatible\u001B[39;49;00m\n\u001B[0;32m    784\u001B[0m \u001B[43m        \u001B[49m\u001B[38;5;66;43;03m# type \"Optional[Collection[Any]]\"; expected \"Optional[Index]\"\u001B[39;49;00m\n\u001B[0;32m    785\u001B[0m \u001B[43m        \u001B[49m\u001B[43mdata\u001B[49m\u001B[43m,\u001B[49m\n\u001B[0;32m    786\u001B[0m \u001B[43m        \u001B[49m\u001B[43mcolumns\u001B[49m\u001B[43m,\u001B[49m\n\u001B[0;32m    787\u001B[0m \u001B[43m        \u001B[49m\u001B[43mindex\u001B[49m\u001B[43m,\u001B[49m\u001B[43m  \u001B[49m\u001B[38;5;66;43;03m# type: ignore[arg-type]\u001B[39;49;00m\n\u001B[0;32m    788\u001B[0m \u001B[43m        \u001B[49m\u001B[43mdtype\u001B[49m\u001B[43m,\u001B[49m\n\u001B[0;32m    789\u001B[0m \u001B[43m    \u001B[49m\u001B[43m)\u001B[49m\n\u001B[0;32m    790\u001B[0m     mgr \u001B[38;5;241m=\u001B[39m arrays_to_mgr(\n\u001B[0;32m    791\u001B[0m         arrays,\n\u001B[0;32m    792\u001B[0m         columns,\n\u001B[1;32m   (...)\u001B[0m\n\u001B[0;32m    795\u001B[0m         typ\u001B[38;5;241m=\u001B[39mmanager,\n\u001B[0;32m    796\u001B[0m     )\n\u001B[0;32m    797\u001B[0m \u001B[38;5;28;01melse\u001B[39;00m:\n",
      "File \u001B[1;32m~\\PycharmProjects\\venv\\lib\\site-packages\\pandas\\core\\internals\\construction.py:498\u001B[0m, in \u001B[0;36mnested_data_to_arrays\u001B[1;34m(data, columns, index, dtype)\u001B[0m\n\u001B[0;32m    495\u001B[0m \u001B[38;5;28;01mif\u001B[39;00m is_named_tuple(data[\u001B[38;5;241m0\u001B[39m]) \u001B[38;5;129;01mand\u001B[39;00m columns \u001B[38;5;129;01mis\u001B[39;00m \u001B[38;5;28;01mNone\u001B[39;00m:\n\u001B[0;32m    496\u001B[0m     columns \u001B[38;5;241m=\u001B[39m ensure_index(data[\u001B[38;5;241m0\u001B[39m]\u001B[38;5;241m.\u001B[39m_fields)\n\u001B[1;32m--> 498\u001B[0m arrays, columns \u001B[38;5;241m=\u001B[39m \u001B[43mto_arrays\u001B[49m\u001B[43m(\u001B[49m\u001B[43mdata\u001B[49m\u001B[43m,\u001B[49m\u001B[43m \u001B[49m\u001B[43mcolumns\u001B[49m\u001B[43m,\u001B[49m\u001B[43m \u001B[49m\u001B[43mdtype\u001B[49m\u001B[38;5;241;43m=\u001B[39;49m\u001B[43mdtype\u001B[49m\u001B[43m)\u001B[49m\n\u001B[0;32m    499\u001B[0m columns \u001B[38;5;241m=\u001B[39m ensure_index(columns)\n\u001B[0;32m    501\u001B[0m \u001B[38;5;28;01mif\u001B[39;00m index \u001B[38;5;129;01mis\u001B[39;00m \u001B[38;5;28;01mNone\u001B[39;00m:\n",
      "File \u001B[1;32m~\\PycharmProjects\\venv\\lib\\site-packages\\pandas\\core\\internals\\construction.py:840\u001B[0m, in \u001B[0;36mto_arrays\u001B[1;34m(data, columns, dtype)\u001B[0m\n\u001B[0;32m    837\u001B[0m     data \u001B[38;5;241m=\u001B[39m [\u001B[38;5;28mtuple\u001B[39m(x) \u001B[38;5;28;01mfor\u001B[39;00m x \u001B[38;5;129;01min\u001B[39;00m data]\n\u001B[0;32m    838\u001B[0m     arr \u001B[38;5;241m=\u001B[39m _list_to_arrays(data)\n\u001B[1;32m--> 840\u001B[0m content, columns \u001B[38;5;241m=\u001B[39m \u001B[43m_finalize_columns_and_data\u001B[49m\u001B[43m(\u001B[49m\u001B[43marr\u001B[49m\u001B[43m,\u001B[49m\u001B[43m \u001B[49m\u001B[43mcolumns\u001B[49m\u001B[43m,\u001B[49m\u001B[43m \u001B[49m\u001B[43mdtype\u001B[49m\u001B[43m)\u001B[49m\n\u001B[0;32m    841\u001B[0m \u001B[38;5;28;01mreturn\u001B[39;00m content, columns\n",
      "File \u001B[1;32m~\\PycharmProjects\\venv\\lib\\site-packages\\pandas\\core\\internals\\construction.py:937\u001B[0m, in \u001B[0;36m_finalize_columns_and_data\u001B[1;34m(content, columns, dtype)\u001B[0m\n\u001B[0;32m    934\u001B[0m     columns \u001B[38;5;241m=\u001B[39m _validate_or_indexify_columns(contents, columns)\n\u001B[0;32m    935\u001B[0m \u001B[38;5;28;01mexcept\u001B[39;00m \u001B[38;5;167;01mAssertionError\u001B[39;00m \u001B[38;5;28;01mas\u001B[39;00m err:\n\u001B[0;32m    936\u001B[0m     \u001B[38;5;66;03m# GH#26429 do not raise user-facing AssertionError\u001B[39;00m\n\u001B[1;32m--> 937\u001B[0m     \u001B[38;5;28;01mraise\u001B[39;00m \u001B[38;5;167;01mValueError\u001B[39;00m(err) \u001B[38;5;28;01mfrom\u001B[39;00m \u001B[38;5;21;01merr\u001B[39;00m\n\u001B[0;32m    939\u001B[0m \u001B[38;5;28;01mif\u001B[39;00m \u001B[38;5;28mlen\u001B[39m(contents) \u001B[38;5;129;01mand\u001B[39;00m contents[\u001B[38;5;241m0\u001B[39m]\u001B[38;5;241m.\u001B[39mdtype \u001B[38;5;241m==\u001B[39m np\u001B[38;5;241m.\u001B[39mobject_:\n\u001B[0;32m    940\u001B[0m     contents \u001B[38;5;241m=\u001B[39m convert_object_array(contents, dtype\u001B[38;5;241m=\u001B[39mdtype)\n",
      "\u001B[1;31mValueError\u001B[0m: 16 columns passed, passed data had 14 columns"
     ]
    }
   ],
   "source": [
    "users = posts_df['user_name'].unique()\n",
    "users = [u for u in users if u is not None]\n",
    "submission_comments_table = []\n",
    "column_names = [\"Index\", 'is_post',  \"subreddit\", \"post_time\",\n",
    "                \"user_name\", \"title\", \"text\",\n",
    "                \"num_comments\", \"score\", \"ups\", \"upvote_ratio\", \n",
    "                \"downs\", 'downvote', 'likes', \n",
    "                \"URL\",  \"over18\"]\n",
    "counter = 0\n",
    "\n",
    "for user in users:\n",
    "    submissions = user.submissions.new(limit=100)\n",
    "    for p in submissions:\n",
    "        if p.selftext in [\"\", \"[removed]\"]:\n",
    "            continue\n",
    "        counter += 1\n",
    "        submission_comments_table.append([counter, \"yes\", p.subreddit, datetime.utcfromtimestamp(p.created), \n",
    "                            p.author, p.title, p.selftext, \n",
    "                            p.num_comments, p.score, p.ups, p.upvote_ratio, \n",
    "                            p.downs, p.downvote,  p.likes,\n",
    "                            p.permalink,  p.over_18])\n"
   ]
  },
  {
   "cell_type": "code",
   "execution_count": 61,
   "outputs": [],
   "source": [
    "posts_df_all = pd.DataFrame(submission_comments_table, columns=column_names)"
   ],
   "metadata": {
    "collapsed": false,
    "ExecuteTime": {
     "end_time": "2023-05-27T10:58:57.761896Z",
     "start_time": "2023-05-27T10:58:57.746044600Z"
    }
   }
  },
  {
   "cell_type": "code",
   "execution_count": 62,
   "metadata": {
    "tags": [],
    "ExecuteTime": {
     "end_time": "2023-05-27T10:59:01.525408800Z",
     "start_time": "2023-05-27T10:59:01.407098300Z"
    }
   },
   "outputs": [],
   "source": [
    "posts_df_all.to_csv(\"postsASD_all.csv\", index=False) # index=False - do not save the default index column"
   ]
  },
  {
   "cell_type": "code",
   "execution_count": 71,
   "outputs": [],
   "source": [
    "user_asd_new = posts_df_all.user_name.unique()"
   ],
   "metadata": {
    "collapsed": false,
    "ExecuteTime": {
     "end_time": "2023-05-27T11:10:25.447170600Z",
     "start_time": "2023-05-27T11:10:25.430363600Z"
    }
   }
  },
  {
   "cell_type": "code",
   "execution_count": 72,
   "outputs": [
    {
     "data": {
      "text/plain": "[]"
     },
     "execution_count": 72,
     "metadata": {},
     "output_type": "execute_result"
    }
   ],
   "source": [
    "## making sure that we only save users who are in asd group\n",
    "## this should be empty - indeed\n",
    "[ u for u in user_asd_new if u not in user_asd_original]"
   ],
   "metadata": {
    "collapsed": false,
    "ExecuteTime": {
     "end_time": "2023-05-27T11:10:46.529228200Z",
     "start_time": "2023-05-27T11:10:46.483159Z"
    }
   }
  },
  {
   "cell_type": "markdown",
   "source": [
    "#### Manual Filter subreddits which are:\n",
    "1. related to autism\n",
    "2. have less than 4 users"
   ],
   "metadata": {
    "collapsed": false
   }
  },
  {
   "cell_type": "code",
   "execution_count": 63,
   "outputs": [],
   "source": [
    "subreddits_dict = {}\n",
    "subreddits = posts_df_all.subreddit.unique()\n",
    "for sub in subreddits:\n",
    "    users = posts_df_all[posts_df_all.subreddit == sub].user_name.unique()\n",
    "    subreddits_dict[sub] = users\n",
    "\n",
    "sorted_dict = dict(sorted(subreddits_dict.items(), key=lambda x: len(x[1]), reverse=True))"
   ],
   "metadata": {
    "collapsed": false,
    "ExecuteTime": {
     "end_time": "2023-05-27T10:59:10.417417400Z",
     "start_time": "2023-05-27T10:59:05.331926900Z"
    }
   }
  },
  {
   "cell_type": "code",
   "execution_count": 65,
   "outputs": [
    {
     "name": "stdout",
     "output_type": "stream",
     "text": [
      "subreddit = AutisticAdults, #users = 168\n",
      "subreddit = autism, #users = 32\n",
      "subreddit = AutismInWomen, #users = 16\n",
      "subreddit = ADHD, #users = 13\n",
      "subreddit = AutismTranslated, #users = 13\n",
      "subreddit = CPTSD, #users = 12\n",
      "subreddit = aspergers, #users = 12\n",
      "subreddit = depression, #users = 9\n",
      "subreddit = raisedbynarcissists, #users = 9\n",
      "subreddit = AutisticWithADHD, #users = 9\n",
      "subreddit = aspergirls, #users = 8\n",
      "subreddit = Anxiety, #users = 7\n",
      "subreddit = neurodiversity, #users = 7\n",
      "subreddit = AskDocs, #users = 7\n",
      "subreddit = AskVet, #users = 6\n",
      "subreddit = lgbt, #users = 6\n",
      "subreddit = mentalhealth, #users = 6\n",
      "subreddit = antiwork, #users = 6\n",
      "subreddit = NonBinary, #users = 5\n",
      "subreddit = cats, #users = 5\n",
      "subreddit = offmychest, #users = 5\n",
      "subreddit = AuDHDWomen, #users = 5\n",
      "subreddit = adhdwomen, #users = 5\n",
      "subreddit = rant, #users = 5\n",
      "subreddit = NoStupidQuestions, #users = 5\n",
      "subreddit = TwoXChromosomes, #users = 5\n",
      "subreddit = ChronicIllness, #users = 4\n",
      "subreddit = HomeImprovement, #users = 4\n",
      "subreddit = personalfinance, #users = 4\n",
      "subreddit = adultautism, #users = 4\n",
      "subreddit = TrueOffMyChest, #users = 4\n",
      "subreddit = AmItheAsshole, #users = 4\n",
      "subreddit = relationship_advice, #users = 4\n",
      "subreddit = mentalillness, #users = 4\n",
      "subreddit = SpicyAutism, #users = 4\n",
      "subreddit = selfharm, #users = 4\n",
      "subreddit = Dreams, #users = 4\n",
      "subreddit = Advice, #users = 4\n",
      "subreddit = BPD, #users = 4\n",
      "subreddit = AutisticPride, #users = 4\n",
      "subreddit = ptsd, #users = 4\n",
      "subreddit = dogs, #users = 4\n",
      "subreddit = deadbydaylight, #users = 3\n",
      "subreddit = buildapc, #users = 3\n",
      "subreddit = ftm, #users = 3\n",
      "subreddit = trans, #users = 3\n",
      "subreddit = careerguidance, #users = 3\n",
      "subreddit = INTP, #users = 3\n",
      "subreddit = BDSMAdvice, #users = 3\n",
      "subreddit = tipofmytongue, #users = 3\n",
      "subreddit = Parenting, #users = 3\n",
      "subreddit = GriefSupport, #users = 3\n",
      "subreddit = StardewValley, #users = 3\n",
      "subreddit = jobs, #users = 3\n",
      "subreddit = AutisticPeeps, #users = 3\n",
      "subreddit = lostgeneration, #users = 3\n",
      "subreddit = bisexual, #users = 3\n",
      "subreddit = booksuggestions, #users = 3\n",
      "subreddit = DnD, #users = 3\n",
      "subreddit = legaladvice, #users = 3\n",
      "subreddit = The10thDentist, #users = 3\n",
      "subreddit = lexapro, #users = 3\n",
      "subreddit = atheism, #users = 3\n",
      "subreddit = CatAdvice, #users = 3\n",
      "subreddit = WomensHealth, #users = 3\n",
      "subreddit = bipolar, #users = 3\n",
      "subreddit = Petloss, #users = 3\n",
      "subreddit = 3Dprinting, #users = 3\n",
      "subreddit = povertyfinance, #users = 3\n",
      "subreddit = Autism_Parenting, #users = 3\n"
     ]
    }
   ],
   "source": [
    "for k, v in sorted_dict.items():\n",
    "    if len(v) < 3:\n",
    "        continue\n",
    "    print(f\"subreddit = {k}, #users = {len(v)}\")"
   ],
   "metadata": {
    "collapsed": false,
    "ExecuteTime": {
     "end_time": "2023-05-27T10:59:32.408953600Z",
     "start_time": "2023-05-27T10:59:32.395155900Z"
    }
   }
  },
  {
   "cell_type": "code",
   "execution_count": 66,
   "outputs": [],
   "source": [
    "filtered_top_subreddits = [\"depression\", \"Anxiety\", \"raisedbynarcissists\", \"AskDocs\", \"AskVet\", \"antiwork\", \"cats\", \"offmychest\", \"rant\", \"NoStupidQuestions\", \"HomeImprovement\", \"personalfinance\", \"TrueOffMyChest\", \"AmItheAsshole\", \"relationship_advice\", \"Dreams\", \"Advice\", \"dogs\"]"
   ],
   "metadata": {
    "collapsed": false,
    "ExecuteTime": {
     "end_time": "2023-05-27T11:02:31.702025700Z",
     "start_time": "2023-05-27T11:02:31.692700200Z"
    }
   }
  },
  {
   "cell_type": "markdown",
   "metadata": {},
   "source": [
    "### Collect neurotypical posts from top subreddits"
   ]
  },
  {
   "cell_type": "code",
   "execution_count": 68,
   "outputs": [],
   "source": [
    "import pandas as pd\n",
    "from datetime import datetime\n",
    "\n",
    "users_asd = posts_df_all.user_name.unique()\n",
    "counter = 0\n",
    "posts_table = []\n",
    "column_names = [\"Index\", \"subreddit\", \"post_time\",\n",
    "                \"user_name\", \"title\", \"text\",\n",
    "                \"num_comments\", \"score\", \"ups\", \"upvote_ratio\",\n",
    "                \"downs\", 'downvote',\n",
    "                \"URL\",\n",
    "               \"over18\"]\n",
    "\n",
    "for subreddit in filtered_top_subreddits:\n",
    "    results = reddit.subreddit(subreddit).new(limit=15)\n",
    "    for p in results: # p is a reddit post\n",
    "        if p.selftext in [\"\", \"[removed]\", \"[deleted]\"]:\n",
    "            continue\n",
    "        if p.author in [\"[deleted]\"]:\n",
    "            continue\n",
    "        if p.author in users_asd:\n",
    "            continue\n",
    "        counter += 1\n",
    "        # Add the post to the table\n",
    "        posts_table.append([counter, p.subreddit, datetime.utcfromtimestamp(p.created),\n",
    "                            p.author, p.title, p.selftext,\n",
    "                            p.num_comments, p.score, p.ups, p.upvote_ratio,\n",
    "                            p.downs, p.downvote,\n",
    "                            p.permalink\n",
    "                           , p.over_18])\n",
    "\n",
    "posts_df_nr = pd.DataFrame(posts_table, columns=column_names)"
   ],
   "metadata": {
    "collapsed": false,
    "ExecuteTime": {
     "end_time": "2023-05-27T11:08:59.846180800Z",
     "start_time": "2023-05-27T11:06:21.536630900Z"
    }
   }
  },
  {
   "cell_type": "code",
   "execution_count": 73,
   "outputs": [],
   "source": [
    "posts_df_nr.to_csv(\"postsNRTypical.csv\", index=False) # index=False - do not save the default index column"
   ],
   "metadata": {
    "collapsed": false,
    "ExecuteTime": {
     "end_time": "2023-05-27T11:11:38.492111800Z",
     "start_time": "2023-05-27T11:11:38.476479900Z"
    }
   }
  },
  {
   "cell_type": "code",
   "execution_count": 69,
   "outputs": [
    {
     "data": {
      "text/plain": "   Index   subreddit           post_time             user_name   \n0      1  depression 2023-05-27 10:58:24          LostCookie29  \\\n1      2  depression 2023-05-27 10:51:16            VanaVisera   \n2      3  depression 2023-05-27 10:31:30  Original_Letter_2477   \n3      4  depression 2023-05-27 10:01:18  Competitive-Sea-9878   \n4      5  depression 2023-05-27 09:59:08   Last_Temperature_55   \n\n                                               title   \n0                   Thinking of cutting everyone off  \\\n1               (F27) I Feel Like A Complete Failure   \n2                         I wish to be a child again   \n3                             Hi guys im new to this   \n4  I quick my antidepressants cold turkey and now...   \n\n                                                text  num_comments  score   \n0  I (25F) recently made a huge sacrifice for my ...             0      1  \\\n1  I’m a 27 year old goth woman who feels like al...             0      2   \n2  It was beautiful. Living day by day, going out...             0      2   \n3  Umm so i just had a break through in my head b...             0      1   \n4  I quit taking my antidepressants just a couple...             0      1   \n\n   ups  upvote_ratio  downs   \n0    1           1.0      0  \\\n1    2           1.0      0   \n2    2           1.0      0   \n3    1           1.0      0   \n4    1           1.0      0   \n\n                                            downvote   \n0  <bound method VotableMixin.downvote of Submiss...  \\\n1  <bound method VotableMixin.downvote of Submiss...   \n2  <bound method VotableMixin.downvote of Submiss...   \n3  <bound method VotableMixin.downvote of Submiss...   \n4  <bound method VotableMixin.downvote of Submiss...   \n\n                                                 URL  over18  \n0  /r/depression/comments/13t4dgg/thinking_of_cut...   False  \n1  /r/depression/comments/13t497j/f27_i_feel_like...    True  \n2  /r/depression/comments/13t3xnl/i_wish_to_be_a_...   False  \n3  /r/depression/comments/13t3fic/hi_guys_im_new_...   False  \n4  /r/depression/comments/13t3e2x/i_quick_my_anti...   False  ",
      "text/html": "<div>\n<style scoped>\n    .dataframe tbody tr th:only-of-type {\n        vertical-align: middle;\n    }\n\n    .dataframe tbody tr th {\n        vertical-align: top;\n    }\n\n    .dataframe thead th {\n        text-align: right;\n    }\n</style>\n<table border=\"1\" class=\"dataframe\">\n  <thead>\n    <tr style=\"text-align: right;\">\n      <th></th>\n      <th>Index</th>\n      <th>subreddit</th>\n      <th>post_time</th>\n      <th>user_name</th>\n      <th>title</th>\n      <th>text</th>\n      <th>num_comments</th>\n      <th>score</th>\n      <th>ups</th>\n      <th>upvote_ratio</th>\n      <th>downs</th>\n      <th>downvote</th>\n      <th>URL</th>\n      <th>over18</th>\n    </tr>\n  </thead>\n  <tbody>\n    <tr>\n      <th>0</th>\n      <td>1</td>\n      <td>depression</td>\n      <td>2023-05-27 10:58:24</td>\n      <td>LostCookie29</td>\n      <td>Thinking of cutting everyone off</td>\n      <td>I (25F) recently made a huge sacrifice for my ...</td>\n      <td>0</td>\n      <td>1</td>\n      <td>1</td>\n      <td>1.0</td>\n      <td>0</td>\n      <td>&lt;bound method VotableMixin.downvote of Submiss...</td>\n      <td>/r/depression/comments/13t4dgg/thinking_of_cut...</td>\n      <td>False</td>\n    </tr>\n    <tr>\n      <th>1</th>\n      <td>2</td>\n      <td>depression</td>\n      <td>2023-05-27 10:51:16</td>\n      <td>VanaVisera</td>\n      <td>(F27) I Feel Like A Complete Failure</td>\n      <td>I’m a 27 year old goth woman who feels like al...</td>\n      <td>0</td>\n      <td>2</td>\n      <td>2</td>\n      <td>1.0</td>\n      <td>0</td>\n      <td>&lt;bound method VotableMixin.downvote of Submiss...</td>\n      <td>/r/depression/comments/13t497j/f27_i_feel_like...</td>\n      <td>True</td>\n    </tr>\n    <tr>\n      <th>2</th>\n      <td>3</td>\n      <td>depression</td>\n      <td>2023-05-27 10:31:30</td>\n      <td>Original_Letter_2477</td>\n      <td>I wish to be a child again</td>\n      <td>It was beautiful. Living day by day, going out...</td>\n      <td>0</td>\n      <td>2</td>\n      <td>2</td>\n      <td>1.0</td>\n      <td>0</td>\n      <td>&lt;bound method VotableMixin.downvote of Submiss...</td>\n      <td>/r/depression/comments/13t3xnl/i_wish_to_be_a_...</td>\n      <td>False</td>\n    </tr>\n    <tr>\n      <th>3</th>\n      <td>4</td>\n      <td>depression</td>\n      <td>2023-05-27 10:01:18</td>\n      <td>Competitive-Sea-9878</td>\n      <td>Hi guys im new to this</td>\n      <td>Umm so i just had a break through in my head b...</td>\n      <td>0</td>\n      <td>1</td>\n      <td>1</td>\n      <td>1.0</td>\n      <td>0</td>\n      <td>&lt;bound method VotableMixin.downvote of Submiss...</td>\n      <td>/r/depression/comments/13t3fic/hi_guys_im_new_...</td>\n      <td>False</td>\n    </tr>\n    <tr>\n      <th>4</th>\n      <td>5</td>\n      <td>depression</td>\n      <td>2023-05-27 09:59:08</td>\n      <td>Last_Temperature_55</td>\n      <td>I quick my antidepressants cold turkey and now...</td>\n      <td>I quit taking my antidepressants just a couple...</td>\n      <td>0</td>\n      <td>1</td>\n      <td>1</td>\n      <td>1.0</td>\n      <td>0</td>\n      <td>&lt;bound method VotableMixin.downvote of Submiss...</td>\n      <td>/r/depression/comments/13t3e2x/i_quick_my_anti...</td>\n      <td>False</td>\n    </tr>\n  </tbody>\n</table>\n</div>"
     },
     "execution_count": 69,
     "metadata": {},
     "output_type": "execute_result"
    }
   ],
   "source": [
    "posts_df_nr.head()"
   ],
   "metadata": {
    "collapsed": false,
    "ExecuteTime": {
     "end_time": "2023-05-27T11:09:07.716831Z",
     "start_time": "2023-05-27T11:09:07.701530600Z"
    }
   }
  },
  {
   "cell_type": "markdown",
   "source": [
    "## Matching by subreddit - save results"
   ],
   "metadata": {
    "collapsed": false
   }
  },
  {
   "cell_type": "code",
   "execution_count": 84,
   "outputs": [
    {
     "name": "stderr",
     "output_type": "stream",
     "text": [
      "C:\\Users\\ilani\\AppData\\Local\\Temp\\ipykernel_15808\\2597613869.py:5: SettingWithCopyWarning: \n",
      "A value is trying to be set on a copy of a slice from a DataFrame.\n",
      "Try using .loc[row_indexer,col_indexer] = value instead\n",
      "\n",
      "See the caveats in the documentation: https://pandas.pydata.org/pandas-docs/stable/user_guide/indexing.html#returning-a-view-versus-a-copy\n",
      "  sub_df_nr[\"ASD\"] = False\n",
      "C:\\Users\\ilani\\AppData\\Local\\Temp\\ipykernel_15808\\2597613869.py:7: SettingWithCopyWarning: \n",
      "A value is trying to be set on a copy of a slice from a DataFrame.\n",
      "Try using .loc[row_indexer,col_indexer] = value instead\n",
      "\n",
      "See the caveats in the documentation: https://pandas.pydata.org/pandas-docs/stable/user_guide/indexing.html#returning-a-view-versus-a-copy\n",
      "  sub_df_asd[\"ASD\"] = True\n",
      "C:\\Users\\ilani\\AppData\\Local\\Temp\\ipykernel_15808\\2597613869.py:5: SettingWithCopyWarning: \n",
      "A value is trying to be set on a copy of a slice from a DataFrame.\n",
      "Try using .loc[row_indexer,col_indexer] = value instead\n",
      "\n",
      "See the caveats in the documentation: https://pandas.pydata.org/pandas-docs/stable/user_guide/indexing.html#returning-a-view-versus-a-copy\n",
      "  sub_df_nr[\"ASD\"] = False\n",
      "C:\\Users\\ilani\\AppData\\Local\\Temp\\ipykernel_15808\\2597613869.py:7: SettingWithCopyWarning: \n",
      "A value is trying to be set on a copy of a slice from a DataFrame.\n",
      "Try using .loc[row_indexer,col_indexer] = value instead\n",
      "\n",
      "See the caveats in the documentation: https://pandas.pydata.org/pandas-docs/stable/user_guide/indexing.html#returning-a-view-versus-a-copy\n",
      "  sub_df_asd[\"ASD\"] = True\n",
      "C:\\Users\\ilani\\AppData\\Local\\Temp\\ipykernel_15808\\2597613869.py:5: SettingWithCopyWarning: \n",
      "A value is trying to be set on a copy of a slice from a DataFrame.\n",
      "Try using .loc[row_indexer,col_indexer] = value instead\n",
      "\n",
      "See the caveats in the documentation: https://pandas.pydata.org/pandas-docs/stable/user_guide/indexing.html#returning-a-view-versus-a-copy\n",
      "  sub_df_nr[\"ASD\"] = False\n",
      "C:\\Users\\ilani\\AppData\\Local\\Temp\\ipykernel_15808\\2597613869.py:7: SettingWithCopyWarning: \n",
      "A value is trying to be set on a copy of a slice from a DataFrame.\n",
      "Try using .loc[row_indexer,col_indexer] = value instead\n",
      "\n",
      "See the caveats in the documentation: https://pandas.pydata.org/pandas-docs/stable/user_guide/indexing.html#returning-a-view-versus-a-copy\n",
      "  sub_df_asd[\"ASD\"] = True\n",
      "C:\\Users\\ilani\\AppData\\Local\\Temp\\ipykernel_15808\\2597613869.py:5: SettingWithCopyWarning: \n",
      "A value is trying to be set on a copy of a slice from a DataFrame.\n",
      "Try using .loc[row_indexer,col_indexer] = value instead\n",
      "\n",
      "See the caveats in the documentation: https://pandas.pydata.org/pandas-docs/stable/user_guide/indexing.html#returning-a-view-versus-a-copy\n",
      "  sub_df_nr[\"ASD\"] = False\n",
      "C:\\Users\\ilani\\AppData\\Local\\Temp\\ipykernel_15808\\2597613869.py:7: SettingWithCopyWarning: \n",
      "A value is trying to be set on a copy of a slice from a DataFrame.\n",
      "Try using .loc[row_indexer,col_indexer] = value instead\n",
      "\n",
      "See the caveats in the documentation: https://pandas.pydata.org/pandas-docs/stable/user_guide/indexing.html#returning-a-view-versus-a-copy\n",
      "  sub_df_asd[\"ASD\"] = True\n",
      "C:\\Users\\ilani\\AppData\\Local\\Temp\\ipykernel_15808\\2597613869.py:5: SettingWithCopyWarning: \n",
      "A value is trying to be set on a copy of a slice from a DataFrame.\n",
      "Try using .loc[row_indexer,col_indexer] = value instead\n",
      "\n",
      "See the caveats in the documentation: https://pandas.pydata.org/pandas-docs/stable/user_guide/indexing.html#returning-a-view-versus-a-copy\n",
      "  sub_df_nr[\"ASD\"] = False\n",
      "C:\\Users\\ilani\\AppData\\Local\\Temp\\ipykernel_15808\\2597613869.py:7: SettingWithCopyWarning: \n",
      "A value is trying to be set on a copy of a slice from a DataFrame.\n",
      "Try using .loc[row_indexer,col_indexer] = value instead\n",
      "\n",
      "See the caveats in the documentation: https://pandas.pydata.org/pandas-docs/stable/user_guide/indexing.html#returning-a-view-versus-a-copy\n",
      "  sub_df_asd[\"ASD\"] = True\n",
      "C:\\Users\\ilani\\AppData\\Local\\Temp\\ipykernel_15808\\2597613869.py:5: SettingWithCopyWarning: \n",
      "A value is trying to be set on a copy of a slice from a DataFrame.\n",
      "Try using .loc[row_indexer,col_indexer] = value instead\n",
      "\n",
      "See the caveats in the documentation: https://pandas.pydata.org/pandas-docs/stable/user_guide/indexing.html#returning-a-view-versus-a-copy\n",
      "  sub_df_nr[\"ASD\"] = False\n",
      "C:\\Users\\ilani\\AppData\\Local\\Temp\\ipykernel_15808\\2597613869.py:7: SettingWithCopyWarning: \n",
      "A value is trying to be set on a copy of a slice from a DataFrame.\n",
      "Try using .loc[row_indexer,col_indexer] = value instead\n",
      "\n",
      "See the caveats in the documentation: https://pandas.pydata.org/pandas-docs/stable/user_guide/indexing.html#returning-a-view-versus-a-copy\n",
      "  sub_df_asd[\"ASD\"] = True\n",
      "C:\\Users\\ilani\\AppData\\Local\\Temp\\ipykernel_15808\\2597613869.py:5: SettingWithCopyWarning: \n",
      "A value is trying to be set on a copy of a slice from a DataFrame.\n",
      "Try using .loc[row_indexer,col_indexer] = value instead\n",
      "\n",
      "See the caveats in the documentation: https://pandas.pydata.org/pandas-docs/stable/user_guide/indexing.html#returning-a-view-versus-a-copy\n",
      "  sub_df_nr[\"ASD\"] = False\n",
      "C:\\Users\\ilani\\AppData\\Local\\Temp\\ipykernel_15808\\2597613869.py:7: SettingWithCopyWarning: \n",
      "A value is trying to be set on a copy of a slice from a DataFrame.\n",
      "Try using .loc[row_indexer,col_indexer] = value instead\n",
      "\n",
      "See the caveats in the documentation: https://pandas.pydata.org/pandas-docs/stable/user_guide/indexing.html#returning-a-view-versus-a-copy\n",
      "  sub_df_asd[\"ASD\"] = True\n",
      "C:\\Users\\ilani\\AppData\\Local\\Temp\\ipykernel_15808\\2597613869.py:5: SettingWithCopyWarning: \n",
      "A value is trying to be set on a copy of a slice from a DataFrame.\n",
      "Try using .loc[row_indexer,col_indexer] = value instead\n",
      "\n",
      "See the caveats in the documentation: https://pandas.pydata.org/pandas-docs/stable/user_guide/indexing.html#returning-a-view-versus-a-copy\n",
      "  sub_df_nr[\"ASD\"] = False\n",
      "C:\\Users\\ilani\\AppData\\Local\\Temp\\ipykernel_15808\\2597613869.py:7: SettingWithCopyWarning: \n",
      "A value is trying to be set on a copy of a slice from a DataFrame.\n",
      "Try using .loc[row_indexer,col_indexer] = value instead\n",
      "\n",
      "See the caveats in the documentation: https://pandas.pydata.org/pandas-docs/stable/user_guide/indexing.html#returning-a-view-versus-a-copy\n",
      "  sub_df_asd[\"ASD\"] = True\n",
      "C:\\Users\\ilani\\AppData\\Local\\Temp\\ipykernel_15808\\2597613869.py:5: SettingWithCopyWarning: \n",
      "A value is trying to be set on a copy of a slice from a DataFrame.\n",
      "Try using .loc[row_indexer,col_indexer] = value instead\n",
      "\n",
      "See the caveats in the documentation: https://pandas.pydata.org/pandas-docs/stable/user_guide/indexing.html#returning-a-view-versus-a-copy\n",
      "  sub_df_nr[\"ASD\"] = False\n",
      "C:\\Users\\ilani\\AppData\\Local\\Temp\\ipykernel_15808\\2597613869.py:7: SettingWithCopyWarning: \n",
      "A value is trying to be set on a copy of a slice from a DataFrame.\n",
      "Try using .loc[row_indexer,col_indexer] = value instead\n",
      "\n",
      "See the caveats in the documentation: https://pandas.pydata.org/pandas-docs/stable/user_guide/indexing.html#returning-a-view-versus-a-copy\n",
      "  sub_df_asd[\"ASD\"] = True\n",
      "C:\\Users\\ilani\\AppData\\Local\\Temp\\ipykernel_15808\\2597613869.py:5: SettingWithCopyWarning: \n",
      "A value is trying to be set on a copy of a slice from a DataFrame.\n",
      "Try using .loc[row_indexer,col_indexer] = value instead\n",
      "\n",
      "See the caveats in the documentation: https://pandas.pydata.org/pandas-docs/stable/user_guide/indexing.html#returning-a-view-versus-a-copy\n",
      "  sub_df_nr[\"ASD\"] = False\n",
      "C:\\Users\\ilani\\AppData\\Local\\Temp\\ipykernel_15808\\2597613869.py:7: SettingWithCopyWarning: \n",
      "A value is trying to be set on a copy of a slice from a DataFrame.\n",
      "Try using .loc[row_indexer,col_indexer] = value instead\n",
      "\n",
      "See the caveats in the documentation: https://pandas.pydata.org/pandas-docs/stable/user_guide/indexing.html#returning-a-view-versus-a-copy\n",
      "  sub_df_asd[\"ASD\"] = True\n",
      "C:\\Users\\ilani\\AppData\\Local\\Temp\\ipykernel_15808\\2597613869.py:5: SettingWithCopyWarning: \n",
      "A value is trying to be set on a copy of a slice from a DataFrame.\n",
      "Try using .loc[row_indexer,col_indexer] = value instead\n",
      "\n",
      "See the caveats in the documentation: https://pandas.pydata.org/pandas-docs/stable/user_guide/indexing.html#returning-a-view-versus-a-copy\n",
      "  sub_df_nr[\"ASD\"] = False\n",
      "C:\\Users\\ilani\\AppData\\Local\\Temp\\ipykernel_15808\\2597613869.py:7: SettingWithCopyWarning: \n",
      "A value is trying to be set on a copy of a slice from a DataFrame.\n",
      "Try using .loc[row_indexer,col_indexer] = value instead\n",
      "\n",
      "See the caveats in the documentation: https://pandas.pydata.org/pandas-docs/stable/user_guide/indexing.html#returning-a-view-versus-a-copy\n",
      "  sub_df_asd[\"ASD\"] = True\n",
      "C:\\Users\\ilani\\AppData\\Local\\Temp\\ipykernel_15808\\2597613869.py:5: SettingWithCopyWarning: \n",
      "A value is trying to be set on a copy of a slice from a DataFrame.\n",
      "Try using .loc[row_indexer,col_indexer] = value instead\n",
      "\n",
      "See the caveats in the documentation: https://pandas.pydata.org/pandas-docs/stable/user_guide/indexing.html#returning-a-view-versus-a-copy\n",
      "  sub_df_nr[\"ASD\"] = False\n",
      "C:\\Users\\ilani\\AppData\\Local\\Temp\\ipykernel_15808\\2597613869.py:7: SettingWithCopyWarning: \n",
      "A value is trying to be set on a copy of a slice from a DataFrame.\n",
      "Try using .loc[row_indexer,col_indexer] = value instead\n",
      "\n",
      "See the caveats in the documentation: https://pandas.pydata.org/pandas-docs/stable/user_guide/indexing.html#returning-a-view-versus-a-copy\n",
      "  sub_df_asd[\"ASD\"] = True\n",
      "C:\\Users\\ilani\\AppData\\Local\\Temp\\ipykernel_15808\\2597613869.py:5: SettingWithCopyWarning: \n",
      "A value is trying to be set on a copy of a slice from a DataFrame.\n",
      "Try using .loc[row_indexer,col_indexer] = value instead\n",
      "\n",
      "See the caveats in the documentation: https://pandas.pydata.org/pandas-docs/stable/user_guide/indexing.html#returning-a-view-versus-a-copy\n",
      "  sub_df_nr[\"ASD\"] = False\n",
      "C:\\Users\\ilani\\AppData\\Local\\Temp\\ipykernel_15808\\2597613869.py:7: SettingWithCopyWarning: \n",
      "A value is trying to be set on a copy of a slice from a DataFrame.\n",
      "Try using .loc[row_indexer,col_indexer] = value instead\n",
      "\n",
      "See the caveats in the documentation: https://pandas.pydata.org/pandas-docs/stable/user_guide/indexing.html#returning-a-view-versus-a-copy\n",
      "  sub_df_asd[\"ASD\"] = True\n",
      "C:\\Users\\ilani\\AppData\\Local\\Temp\\ipykernel_15808\\2597613869.py:5: SettingWithCopyWarning: \n",
      "A value is trying to be set on a copy of a slice from a DataFrame.\n",
      "Try using .loc[row_indexer,col_indexer] = value instead\n",
      "\n",
      "See the caveats in the documentation: https://pandas.pydata.org/pandas-docs/stable/user_guide/indexing.html#returning-a-view-versus-a-copy\n",
      "  sub_df_nr[\"ASD\"] = False\n",
      "C:\\Users\\ilani\\AppData\\Local\\Temp\\ipykernel_15808\\2597613869.py:7: SettingWithCopyWarning: \n",
      "A value is trying to be set on a copy of a slice from a DataFrame.\n",
      "Try using .loc[row_indexer,col_indexer] = value instead\n",
      "\n",
      "See the caveats in the documentation: https://pandas.pydata.org/pandas-docs/stable/user_guide/indexing.html#returning-a-view-versus-a-copy\n",
      "  sub_df_asd[\"ASD\"] = True\n",
      "C:\\Users\\ilani\\AppData\\Local\\Temp\\ipykernel_15808\\2597613869.py:5: SettingWithCopyWarning: \n",
      "A value is trying to be set on a copy of a slice from a DataFrame.\n",
      "Try using .loc[row_indexer,col_indexer] = value instead\n",
      "\n",
      "See the caveats in the documentation: https://pandas.pydata.org/pandas-docs/stable/user_guide/indexing.html#returning-a-view-versus-a-copy\n",
      "  sub_df_nr[\"ASD\"] = False\n",
      "C:\\Users\\ilani\\AppData\\Local\\Temp\\ipykernel_15808\\2597613869.py:7: SettingWithCopyWarning: \n",
      "A value is trying to be set on a copy of a slice from a DataFrame.\n",
      "Try using .loc[row_indexer,col_indexer] = value instead\n",
      "\n",
      "See the caveats in the documentation: https://pandas.pydata.org/pandas-docs/stable/user_guide/indexing.html#returning-a-view-versus-a-copy\n",
      "  sub_df_asd[\"ASD\"] = True\n",
      "C:\\Users\\ilani\\AppData\\Local\\Temp\\ipykernel_15808\\2597613869.py:5: SettingWithCopyWarning: \n",
      "A value is trying to be set on a copy of a slice from a DataFrame.\n",
      "Try using .loc[row_indexer,col_indexer] = value instead\n",
      "\n",
      "See the caveats in the documentation: https://pandas.pydata.org/pandas-docs/stable/user_guide/indexing.html#returning-a-view-versus-a-copy\n",
      "  sub_df_nr[\"ASD\"] = False\n",
      "C:\\Users\\ilani\\AppData\\Local\\Temp\\ipykernel_15808\\2597613869.py:7: SettingWithCopyWarning: \n",
      "A value is trying to be set on a copy of a slice from a DataFrame.\n",
      "Try using .loc[row_indexer,col_indexer] = value instead\n",
      "\n",
      "See the caveats in the documentation: https://pandas.pydata.org/pandas-docs/stable/user_guide/indexing.html#returning-a-view-versus-a-copy\n",
      "  sub_df_asd[\"ASD\"] = True\n",
      "C:\\Users\\ilani\\AppData\\Local\\Temp\\ipykernel_15808\\2597613869.py:5: SettingWithCopyWarning: \n",
      "A value is trying to be set on a copy of a slice from a DataFrame.\n",
      "Try using .loc[row_indexer,col_indexer] = value instead\n",
      "\n",
      "See the caveats in the documentation: https://pandas.pydata.org/pandas-docs/stable/user_guide/indexing.html#returning-a-view-versus-a-copy\n",
      "  sub_df_nr[\"ASD\"] = False\n",
      "C:\\Users\\ilani\\AppData\\Local\\Temp\\ipykernel_15808\\2597613869.py:7: SettingWithCopyWarning: \n",
      "A value is trying to be set on a copy of a slice from a DataFrame.\n",
      "Try using .loc[row_indexer,col_indexer] = value instead\n",
      "\n",
      "See the caveats in the documentation: https://pandas.pydata.org/pandas-docs/stable/user_guide/indexing.html#returning-a-view-versus-a-copy\n",
      "  sub_df_asd[\"ASD\"] = True\n",
      "C:\\Users\\ilani\\AppData\\Local\\Temp\\ipykernel_15808\\2597613869.py:5: SettingWithCopyWarning: \n",
      "A value is trying to be set on a copy of a slice from a DataFrame.\n",
      "Try using .loc[row_indexer,col_indexer] = value instead\n",
      "\n",
      "See the caveats in the documentation: https://pandas.pydata.org/pandas-docs/stable/user_guide/indexing.html#returning-a-view-versus-a-copy\n",
      "  sub_df_nr[\"ASD\"] = False\n",
      "C:\\Users\\ilani\\AppData\\Local\\Temp\\ipykernel_15808\\2597613869.py:7: SettingWithCopyWarning: \n",
      "A value is trying to be set on a copy of a slice from a DataFrame.\n",
      "Try using .loc[row_indexer,col_indexer] = value instead\n",
      "\n",
      "See the caveats in the documentation: https://pandas.pydata.org/pandas-docs/stable/user_guide/indexing.html#returning-a-view-versus-a-copy\n",
      "  sub_df_asd[\"ASD\"] = True\n"
     ]
    }
   ],
   "source": [
    "import os\n",
    "df_all = []\n",
    "for subreddit in filtered_top_subreddits:\n",
    "    sub_df_nr = posts_df_nr[posts_df_nr.subreddit == subreddit]\n",
    "    sub_df_nr[\"ASD\"] = False\n",
    "    sub_df_asd = posts_df_all[posts_df_all.subreddit == subreddit]\n",
    "    sub_df_asd[\"ASD\"] = True\n",
    "    df_both = pd.concat([sub_df_asd, sub_df_nr], axis=0)\n",
    "    df_both.drop(columns=[\"Index\", \"downvote\", \"is_post\"], inplace=True)\n",
    "    df_both.reset_index(inplace=True)\n",
    "    df_both.to_csv(os.path.join(\"posts\",f\"{subreddit}_both.csv\"), index=False)\n",
    "    df_all.append(df_both)"
   ],
   "metadata": {
    "collapsed": false,
    "ExecuteTime": {
     "end_time": "2023-05-27T11:15:14.892916500Z",
     "start_time": "2023-05-27T11:15:14.706336Z"
    }
   }
  },
  {
   "cell_type": "code",
   "execution_count": 85,
   "outputs": [],
   "source": [
    "df_all = pd.concat(df_all, axis=0)\n",
    "df_all.reset_index(inplace=True)\n",
    "df_all.to_csv(\"posts_ASD_Typical_filtered.csv\", index=False)"
   ],
   "metadata": {
    "collapsed": false,
    "ExecuteTime": {
     "end_time": "2023-05-27T11:15:16.671706600Z",
     "start_time": "2023-05-27T11:15:16.630891800Z"
    }
   }
  },
  {
   "cell_type": "code",
   "execution_count": 87,
   "outputs": [
    {
     "data": {
      "text/plain": "    level_0  index   subreddit           post_time         user_name   \n0         0     30  depression 2023-02-20 17:34:29     luna_bea_tuna  \\\n1         1     34  depression 2022-12-16 08:46:15     luna_bea_tuna   \n2         2     35  depression 2022-11-30 07:25:44     luna_bea_tuna   \n3         3     37  depression 2022-11-15 09:16:53     luna_bea_tuna   \n4         4     38  depression 2022-11-12 17:23:20     luna_bea_tuna   \n5         5     40  depression 2022-08-17 08:05:30     luna_bea_tuna   \n6         6    550  depression 2023-01-03 08:22:19     GhostAmethyst   \n7         7    561  depression 2022-05-14 12:31:39     GhostAmethyst   \n8         8    925  depression 2020-12-04 23:39:44     cyborgmonkey-   \n9         9    933  depression 2020-09-24 01:28:46     cyborgmonkey-   \n10       10   1113  depression 2014-03-19 23:45:02      thetreecycle   \n11       11   1465  depression 2019-12-27 22:58:06         aairo1228   \n12       12   1687  depression 2023-02-21 21:58:55  No-Macaroon-9902   \n13       13   2454  depression 2022-07-31 00:49:36      HofmansHuffy   \n14       14   2770  depression 2023-05-04 03:06:25      Rainbow_Hope   \n15       15   3023  depression 2017-05-06 16:57:00          iamukiki   \n16       16   3026  depression 2017-03-15 00:49:12          iamukiki   \n17       17   3029  depression 2016-11-13 04:17:03          iamukiki   \n18       18   3032  depression 2016-10-08 04:21:56          iamukiki   \n19       19   3035  depression 2016-08-19 03:34:17          iamukiki   \n\n                                                title   \n0                                 I make things worse  \\\n1   How do you stay patient waiting for medication...   \n2                             I can’t do this anymore   \n3                     Visualized tools for depression   \n4                   What is my depression telling me?   \n5                                         No way out.   \n6                 Is it Winter blues or just my life?   \n7                   Consequences of Hygiene Struggles   \n8                                    A hopeless loser   \n9                                        Overwhelmed.   \n10       Today is a success because I have continued.   \n11                             How do I thrive again?   \n12                         Feeling kind of bad lately   \n13                         I don’t feel real anymore.   \n14        I am slowly getting more and more depressed   \n15  Foster kittens who passed this week...Found ou...   \n16  Depression and meds make me feel like I'm goin...   \n17  Anyone try remeron? My doctor changed my medic...   \n18  Fibermylgia pain is making my depression worse...   \n19  Doctor wants to increase Seroquel dose...I am ...   \n\n                                                 text  num_comments  score   \n0   I'm at the point where I can see my family wou...             0      1  \\\n1   Hello hello. I am 4-6 weeks into brintellix fo...             0      1   \n2   I have a 3 year old. And everyday is crying an...             4      2   \n3   Hi - I suffer from anxiety and depression and ...             0      2   \n4   Is it correct to think that when I feel depres...             4      2   \n5   My partner and I have no interests in common, ...             2      2   \n6   I’m gonna keep a lot of details to a minimum j...             0      1   \n7   Been feeling incredibly insecure for quite a f...             8     14   \n8   Younger and less qualified people are getting ...             0      2   \n9   I have depression, anxiety, bipolar. A couple ...             0      1   \n10       I didn't do anything today. Or did I? \\n\\n\\n             1      2   \n11  Tw: major depressive disorder, anxiety, PTSD, ...             1      1   \n12  my mental health has been a problem for a long...             0      1   \n13  The last several months I’ve become increasing...             0      0   \n14  I have been living in residential care facilit...             0      3   \n15  I was fostering 5 kittens and 2 passed this we...             1      2   \n16  I don't even remember what normal feels like. ...             1      1   \n17  So after years of trying different treatments ...             0      1   \n18  FM pain is fairing up and it is making my(27 f...             0      1   \n19  I have been on seroquel for about 4 months and...             3      2   \n\n    ups  upvote_ratio  downs likes   \n0     1          1.00      0  None  \\\n1     1          1.00      0  None   \n2     2          0.67      0  None   \n3     2          1.00      0  None   \n4     2          0.67      0  None   \n5     2          1.00      0  None   \n6     1          1.00      0  None   \n7    14          0.95      0  None   \n8     2          1.00      0  None   \n9     1          1.00      0  None   \n10    2          1.00      0  None   \n11    1          1.00      0  None   \n12    1          1.00      0  None   \n13    0          0.50      0  None   \n14    3          1.00      0  None   \n15    2          1.00      0  None   \n16    1          1.00      0  None   \n17    1          1.00      0  None   \n18    1          0.67      0  None   \n19    2          0.76      0  None   \n\n                                                  URL  over18   ASD  \n0   /r/depression/comments/117f0hz/i_make_things_w...    True  True  \n1   /r/depression/comments/zna3os/how_do_you_stay_...   False  True  \n2   /r/depression/comments/z8kw6y/i_cant_do_this_a...   False  True  \n3   /r/depression/comments/yvrt9b/visualized_tools...   False  True  \n4   /r/depression/comments/ytd5zd/what_is_my_depre...   False  True  \n5           /r/depression/comments/wqj5is/no_way_out/   False  True  \n6   /r/depression/comments/1022fut/is_it_winter_bl...   False  True  \n7   /r/depression/comments/upga0k/consequences_of_...   False  True  \n8     /r/depression/comments/k6wf3i/a_hopeless_loser/   False  True  \n9          /r/depression/comments/iynh7u/overwhelmed/   False  True  \n10  /r/depression/comments/20uwar/today_is_a_succe...   False  True  \n11  /r/depression/comments/egiceq/how_do_i_thrive_...   False  True  \n12  /r/depression/comments/118gcsa/feeling_kind_of...   False  True  \n13  /r/depression/comments/wcc2ea/i_dont_feel_real...   False  True  \n14  /r/depression/comments/1378526/i_am_slowly_get...   False  True  \n15  /r/depression/comments/69m7mg/foster_kittens_w...   False  True  \n16  /r/depression/comments/5zg8ie/depression_and_m...   False  True  \n17  /r/depression/comments/5coc2f/anyone_try_remer...   False  True  \n18  /r/depression/comments/56fg90/fibermylgia_pain...   False  True  \n19  /r/depression/comments/4ygojk/doctor_wants_to_...   False  True  ",
      "text/html": "<div>\n<style scoped>\n    .dataframe tbody tr th:only-of-type {\n        vertical-align: middle;\n    }\n\n    .dataframe tbody tr th {\n        vertical-align: top;\n    }\n\n    .dataframe thead th {\n        text-align: right;\n    }\n</style>\n<table border=\"1\" class=\"dataframe\">\n  <thead>\n    <tr style=\"text-align: right;\">\n      <th></th>\n      <th>level_0</th>\n      <th>index</th>\n      <th>subreddit</th>\n      <th>post_time</th>\n      <th>user_name</th>\n      <th>title</th>\n      <th>text</th>\n      <th>num_comments</th>\n      <th>score</th>\n      <th>ups</th>\n      <th>upvote_ratio</th>\n      <th>downs</th>\n      <th>likes</th>\n      <th>URL</th>\n      <th>over18</th>\n      <th>ASD</th>\n    </tr>\n  </thead>\n  <tbody>\n    <tr>\n      <th>0</th>\n      <td>0</td>\n      <td>30</td>\n      <td>depression</td>\n      <td>2023-02-20 17:34:29</td>\n      <td>luna_bea_tuna</td>\n      <td>I make things worse</td>\n      <td>I'm at the point where I can see my family wou...</td>\n      <td>0</td>\n      <td>1</td>\n      <td>1</td>\n      <td>1.00</td>\n      <td>0</td>\n      <td>None</td>\n      <td>/r/depression/comments/117f0hz/i_make_things_w...</td>\n      <td>True</td>\n      <td>True</td>\n    </tr>\n    <tr>\n      <th>1</th>\n      <td>1</td>\n      <td>34</td>\n      <td>depression</td>\n      <td>2022-12-16 08:46:15</td>\n      <td>luna_bea_tuna</td>\n      <td>How do you stay patient waiting for medication...</td>\n      <td>Hello hello. I am 4-6 weeks into brintellix fo...</td>\n      <td>0</td>\n      <td>1</td>\n      <td>1</td>\n      <td>1.00</td>\n      <td>0</td>\n      <td>None</td>\n      <td>/r/depression/comments/zna3os/how_do_you_stay_...</td>\n      <td>False</td>\n      <td>True</td>\n    </tr>\n    <tr>\n      <th>2</th>\n      <td>2</td>\n      <td>35</td>\n      <td>depression</td>\n      <td>2022-11-30 07:25:44</td>\n      <td>luna_bea_tuna</td>\n      <td>I can’t do this anymore</td>\n      <td>I have a 3 year old. And everyday is crying an...</td>\n      <td>4</td>\n      <td>2</td>\n      <td>2</td>\n      <td>0.67</td>\n      <td>0</td>\n      <td>None</td>\n      <td>/r/depression/comments/z8kw6y/i_cant_do_this_a...</td>\n      <td>False</td>\n      <td>True</td>\n    </tr>\n    <tr>\n      <th>3</th>\n      <td>3</td>\n      <td>37</td>\n      <td>depression</td>\n      <td>2022-11-15 09:16:53</td>\n      <td>luna_bea_tuna</td>\n      <td>Visualized tools for depression</td>\n      <td>Hi - I suffer from anxiety and depression and ...</td>\n      <td>0</td>\n      <td>2</td>\n      <td>2</td>\n      <td>1.00</td>\n      <td>0</td>\n      <td>None</td>\n      <td>/r/depression/comments/yvrt9b/visualized_tools...</td>\n      <td>False</td>\n      <td>True</td>\n    </tr>\n    <tr>\n      <th>4</th>\n      <td>4</td>\n      <td>38</td>\n      <td>depression</td>\n      <td>2022-11-12 17:23:20</td>\n      <td>luna_bea_tuna</td>\n      <td>What is my depression telling me?</td>\n      <td>Is it correct to think that when I feel depres...</td>\n      <td>4</td>\n      <td>2</td>\n      <td>2</td>\n      <td>0.67</td>\n      <td>0</td>\n      <td>None</td>\n      <td>/r/depression/comments/ytd5zd/what_is_my_depre...</td>\n      <td>False</td>\n      <td>True</td>\n    </tr>\n    <tr>\n      <th>5</th>\n      <td>5</td>\n      <td>40</td>\n      <td>depression</td>\n      <td>2022-08-17 08:05:30</td>\n      <td>luna_bea_tuna</td>\n      <td>No way out.</td>\n      <td>My partner and I have no interests in common, ...</td>\n      <td>2</td>\n      <td>2</td>\n      <td>2</td>\n      <td>1.00</td>\n      <td>0</td>\n      <td>None</td>\n      <td>/r/depression/comments/wqj5is/no_way_out/</td>\n      <td>False</td>\n      <td>True</td>\n    </tr>\n    <tr>\n      <th>6</th>\n      <td>6</td>\n      <td>550</td>\n      <td>depression</td>\n      <td>2023-01-03 08:22:19</td>\n      <td>GhostAmethyst</td>\n      <td>Is it Winter blues or just my life?</td>\n      <td>I’m gonna keep a lot of details to a minimum j...</td>\n      <td>0</td>\n      <td>1</td>\n      <td>1</td>\n      <td>1.00</td>\n      <td>0</td>\n      <td>None</td>\n      <td>/r/depression/comments/1022fut/is_it_winter_bl...</td>\n      <td>False</td>\n      <td>True</td>\n    </tr>\n    <tr>\n      <th>7</th>\n      <td>7</td>\n      <td>561</td>\n      <td>depression</td>\n      <td>2022-05-14 12:31:39</td>\n      <td>GhostAmethyst</td>\n      <td>Consequences of Hygiene Struggles</td>\n      <td>Been feeling incredibly insecure for quite a f...</td>\n      <td>8</td>\n      <td>14</td>\n      <td>14</td>\n      <td>0.95</td>\n      <td>0</td>\n      <td>None</td>\n      <td>/r/depression/comments/upga0k/consequences_of_...</td>\n      <td>False</td>\n      <td>True</td>\n    </tr>\n    <tr>\n      <th>8</th>\n      <td>8</td>\n      <td>925</td>\n      <td>depression</td>\n      <td>2020-12-04 23:39:44</td>\n      <td>cyborgmonkey-</td>\n      <td>A hopeless loser</td>\n      <td>Younger and less qualified people are getting ...</td>\n      <td>0</td>\n      <td>2</td>\n      <td>2</td>\n      <td>1.00</td>\n      <td>0</td>\n      <td>None</td>\n      <td>/r/depression/comments/k6wf3i/a_hopeless_loser/</td>\n      <td>False</td>\n      <td>True</td>\n    </tr>\n    <tr>\n      <th>9</th>\n      <td>9</td>\n      <td>933</td>\n      <td>depression</td>\n      <td>2020-09-24 01:28:46</td>\n      <td>cyborgmonkey-</td>\n      <td>Overwhelmed.</td>\n      <td>I have depression, anxiety, bipolar. A couple ...</td>\n      <td>0</td>\n      <td>1</td>\n      <td>1</td>\n      <td>1.00</td>\n      <td>0</td>\n      <td>None</td>\n      <td>/r/depression/comments/iynh7u/overwhelmed/</td>\n      <td>False</td>\n      <td>True</td>\n    </tr>\n    <tr>\n      <th>10</th>\n      <td>10</td>\n      <td>1113</td>\n      <td>depression</td>\n      <td>2014-03-19 23:45:02</td>\n      <td>thetreecycle</td>\n      <td>Today is a success because I have continued.</td>\n      <td>I didn't do anything today. Or did I? \\n\\n\\n</td>\n      <td>1</td>\n      <td>2</td>\n      <td>2</td>\n      <td>1.00</td>\n      <td>0</td>\n      <td>None</td>\n      <td>/r/depression/comments/20uwar/today_is_a_succe...</td>\n      <td>False</td>\n      <td>True</td>\n    </tr>\n    <tr>\n      <th>11</th>\n      <td>11</td>\n      <td>1465</td>\n      <td>depression</td>\n      <td>2019-12-27 22:58:06</td>\n      <td>aairo1228</td>\n      <td>How do I thrive again?</td>\n      <td>Tw: major depressive disorder, anxiety, PTSD, ...</td>\n      <td>1</td>\n      <td>1</td>\n      <td>1</td>\n      <td>1.00</td>\n      <td>0</td>\n      <td>None</td>\n      <td>/r/depression/comments/egiceq/how_do_i_thrive_...</td>\n      <td>False</td>\n      <td>True</td>\n    </tr>\n    <tr>\n      <th>12</th>\n      <td>12</td>\n      <td>1687</td>\n      <td>depression</td>\n      <td>2023-02-21 21:58:55</td>\n      <td>No-Macaroon-9902</td>\n      <td>Feeling kind of bad lately</td>\n      <td>my mental health has been a problem for a long...</td>\n      <td>0</td>\n      <td>1</td>\n      <td>1</td>\n      <td>1.00</td>\n      <td>0</td>\n      <td>None</td>\n      <td>/r/depression/comments/118gcsa/feeling_kind_of...</td>\n      <td>False</td>\n      <td>True</td>\n    </tr>\n    <tr>\n      <th>13</th>\n      <td>13</td>\n      <td>2454</td>\n      <td>depression</td>\n      <td>2022-07-31 00:49:36</td>\n      <td>HofmansHuffy</td>\n      <td>I don’t feel real anymore.</td>\n      <td>The last several months I’ve become increasing...</td>\n      <td>0</td>\n      <td>0</td>\n      <td>0</td>\n      <td>0.50</td>\n      <td>0</td>\n      <td>None</td>\n      <td>/r/depression/comments/wcc2ea/i_dont_feel_real...</td>\n      <td>False</td>\n      <td>True</td>\n    </tr>\n    <tr>\n      <th>14</th>\n      <td>14</td>\n      <td>2770</td>\n      <td>depression</td>\n      <td>2023-05-04 03:06:25</td>\n      <td>Rainbow_Hope</td>\n      <td>I am slowly getting more and more depressed</td>\n      <td>I have been living in residential care facilit...</td>\n      <td>0</td>\n      <td>3</td>\n      <td>3</td>\n      <td>1.00</td>\n      <td>0</td>\n      <td>None</td>\n      <td>/r/depression/comments/1378526/i_am_slowly_get...</td>\n      <td>False</td>\n      <td>True</td>\n    </tr>\n    <tr>\n      <th>15</th>\n      <td>15</td>\n      <td>3023</td>\n      <td>depression</td>\n      <td>2017-05-06 16:57:00</td>\n      <td>iamukiki</td>\n      <td>Foster kittens who passed this week...Found ou...</td>\n      <td>I was fostering 5 kittens and 2 passed this we...</td>\n      <td>1</td>\n      <td>2</td>\n      <td>2</td>\n      <td>1.00</td>\n      <td>0</td>\n      <td>None</td>\n      <td>/r/depression/comments/69m7mg/foster_kittens_w...</td>\n      <td>False</td>\n      <td>True</td>\n    </tr>\n    <tr>\n      <th>16</th>\n      <td>16</td>\n      <td>3026</td>\n      <td>depression</td>\n      <td>2017-03-15 00:49:12</td>\n      <td>iamukiki</td>\n      <td>Depression and meds make me feel like I'm goin...</td>\n      <td>I don't even remember what normal feels like. ...</td>\n      <td>1</td>\n      <td>1</td>\n      <td>1</td>\n      <td>1.00</td>\n      <td>0</td>\n      <td>None</td>\n      <td>/r/depression/comments/5zg8ie/depression_and_m...</td>\n      <td>False</td>\n      <td>True</td>\n    </tr>\n    <tr>\n      <th>17</th>\n      <td>17</td>\n      <td>3029</td>\n      <td>depression</td>\n      <td>2016-11-13 04:17:03</td>\n      <td>iamukiki</td>\n      <td>Anyone try remeron? My doctor changed my medic...</td>\n      <td>So after years of trying different treatments ...</td>\n      <td>0</td>\n      <td>1</td>\n      <td>1</td>\n      <td>1.00</td>\n      <td>0</td>\n      <td>None</td>\n      <td>/r/depression/comments/5coc2f/anyone_try_remer...</td>\n      <td>False</td>\n      <td>True</td>\n    </tr>\n    <tr>\n      <th>18</th>\n      <td>18</td>\n      <td>3032</td>\n      <td>depression</td>\n      <td>2016-10-08 04:21:56</td>\n      <td>iamukiki</td>\n      <td>Fibermylgia pain is making my depression worse...</td>\n      <td>FM pain is fairing up and it is making my(27 f...</td>\n      <td>0</td>\n      <td>1</td>\n      <td>1</td>\n      <td>0.67</td>\n      <td>0</td>\n      <td>None</td>\n      <td>/r/depression/comments/56fg90/fibermylgia_pain...</td>\n      <td>False</td>\n      <td>True</td>\n    </tr>\n    <tr>\n      <th>19</th>\n      <td>19</td>\n      <td>3035</td>\n      <td>depression</td>\n      <td>2016-08-19 03:34:17</td>\n      <td>iamukiki</td>\n      <td>Doctor wants to increase Seroquel dose...I am ...</td>\n      <td>I have been on seroquel for about 4 months and...</td>\n      <td>3</td>\n      <td>2</td>\n      <td>2</td>\n      <td>0.76</td>\n      <td>0</td>\n      <td>None</td>\n      <td>/r/depression/comments/4ygojk/doctor_wants_to_...</td>\n      <td>False</td>\n      <td>True</td>\n    </tr>\n  </tbody>\n</table>\n</div>"
     },
     "execution_count": 87,
     "metadata": {},
     "output_type": "execute_result"
    }
   ],
   "source": [
    "df_all.head(20)"
   ],
   "metadata": {
    "collapsed": false,
    "ExecuteTime": {
     "end_time": "2023-05-27T11:16:49.769396100Z",
     "start_time": "2023-05-27T11:16:49.731602Z"
    }
   }
  }
 ],
 "metadata": {
  "kernelspec": {
   "display_name": "Python 3 (ipykernel)",
   "language": "python",
   "name": "python3"
  },
  "language_info": {
   "codemirror_mode": {
    "name": "ipython",
    "version": 3
   },
   "file_extension": ".py",
   "mimetype": "text/x-python",
   "name": "python",
   "nbconvert_exporter": "python",
   "pygments_lexer": "ipython3",
   "version": "3.10.4"
  }
 },
 "nbformat": 4,
 "nbformat_minor": 4
}
