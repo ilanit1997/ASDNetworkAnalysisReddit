{
 "cells": [
  {
   "cell_type": "markdown",
   "metadata": {},
   "source": [
    "# <font color='red'> Data collection - Part 1</font>"
   ]
  },
  {
   "cell_type": "markdown",
   "metadata": {},
   "source": [
    "Enter your user name, client id, and client secret to create a read-only reddit instance."
   ]
  },
  {
   "cell_type": "code",
   "execution_count": 1,
   "metadata": {},
   "outputs": [
    {
     "name": "stdout",
     "output_type": "stream",
     "text": [
      "Requirement already satisfied: praw in c:\\users\\asus\\anaconda3\\envs\\hw1\\lib\\site-packages (7.7.0)Note: you may need to restart the kernel to use updated packages.\n",
      "\n",
      "Requirement already satisfied: prawcore<3,>=2.1 in c:\\users\\asus\\anaconda3\\envs\\hw1\\lib\\site-packages (from praw) (2.3.0)\n",
      "Requirement already satisfied: update-checker>=0.18 in c:\\users\\asus\\anaconda3\\envs\\hw1\\lib\\site-packages (from praw) (0.18.0)\n",
      "Requirement already satisfied: websocket-client>=0.54.0 in c:\\users\\asus\\anaconda3\\envs\\hw1\\lib\\site-packages (from praw) (1.5.1)\n",
      "Requirement already satisfied: requests<3.0,>=2.6.0 in c:\\users\\asus\\anaconda3\\envs\\hw1\\lib\\site-packages (from prawcore<3,>=2.1->praw) (2.28.2)\n",
      "Requirement already satisfied: idna<4,>=2.5 in c:\\users\\asus\\anaconda3\\envs\\hw1\\lib\\site-packages (from requests<3.0,>=2.6.0->prawcore<3,>=2.1->praw) (2.10)\n",
      "Requirement already satisfied: charset-normalizer<4,>=2 in c:\\users\\asus\\anaconda3\\envs\\hw1\\lib\\site-packages (from requests<3.0,>=2.6.0->prawcore<3,>=2.1->praw) (3.1.0)\n",
      "Requirement already satisfied: certifi>=2017.4.17 in c:\\users\\asus\\anaconda3\\envs\\hw1\\lib\\site-packages (from requests<3.0,>=2.6.0->prawcore<3,>=2.1->praw) (2021.10.8)\n",
      "Requirement already satisfied: urllib3<1.27,>=1.21.1 in c:\\users\\asus\\anaconda3\\envs\\hw1\\lib\\site-packages (from requests<3.0,>=2.6.0->prawcore<3,>=2.1->praw) (1.26.4)\n"
     ]
    }
   ],
   "source": [
    "pip install praw"
   ]
  },
  {
   "cell_type": "code",
   "execution_count": 2,
   "metadata": {
    "scrolled": true,
    "tags": []
   },
   "outputs": [],
   "source": [
    "import praw\n",
    "\n",
    "username = \"LaylaTheDog1997\"\n",
    "clientid = \"bRcb4hf7R9MnBXCl61N4NA\"\n",
    "clientsecret = \"SM0Itf82n7e_v7wBXF7mC-ypq7YT7g\"\n",
    "\n",
    "reddit = praw.Reddit(client_id=clientid,\n",
    "                     client_secret=clientsecret,\n",
    "                     user_agent='data collection (by {})'.format(username),\n",
    "                    redirect_uri='http://localhost:8000',)"
   ]
  },
  {
   "cell_type": "markdown",
   "metadata": {
    "jp-MarkdownHeadingCollapsed": true,
    "tags": []
   },
   "source": [
    "## Retrieving and saving data - praw"
   ]
  },
  {
   "cell_type": "markdown",
   "metadata": {},
   "source": [
    "We can do a search for key words in a specific subreddit or all of them.<br>\n",
    "\n",
    "For example let's serach for the phrase *I feel guilty* in all subreddits:"
   ]
  },
  {
   "cell_type": "code",
   "execution_count": 6,
   "metadata": {
    "tags": []
   },
   "outputs": [],
   "source": [
    "import pandas as pd\n",
    "from datetime import datetime\n",
    "\n",
    "sreddits_names = [\"Comingout\", \"ComingOutSupport\", \"gaybros\", \"howtocomeout\", 'gay', \"gaymers\"]\n",
    "querys = ['\"came out\"', '\"am gay\"', '\"coming out\"', '\"comingout\"', '\"im gay\"', '\"cameout\"']\n",
    "counter = 0\n",
    "posts_table = []\n",
    "column_names = [\"Index\", \"Subreddit\", \"Post time\", \n",
    "                \"User Name\", \"title\", \"text\",\n",
    "                \"num_comments\", \"score\", \"ups\", \"upvote_ratio\", \n",
    "                \"downs\", 'downvote', \n",
    "                \"URL\",  \n",
    "               \"over18\"]\n",
    "\n",
    "for subreddit in sreddits_names:\n",
    "    for q in querys:\n",
    "        results = reddit.subreddit(subreddit).search(q, sort=\"relevance\", limit=1000)\n",
    "        for p in results: # p is a reddit post\n",
    "            counter += 1\n",
    "            # Add the post to the table\n",
    "            posts_table.append([counter, p.subreddit, datetime.utcfromtimestamp(p.created), \n",
    "                                p.author, p.title, p.selftext, \n",
    "                                p.num_comments, p.score, p.ups, p.upvote_ratio, \n",
    "                                p.downs, p.downvote, \n",
    "                                p.permalink\n",
    "                               , p.over_18])\n",
    "    \n",
    "\n",
    "coming_out_df = pd.DataFrame(posts_table, columns=column_names)"
   ]
  },
  {
   "cell_type": "code",
   "execution_count": null,
   "metadata": {
    "tags": []
   },
   "outputs": [],
   "source": [
    "coming_out_df.to_csv(\"coming_out_df.csv\", index=False) # index=False - do not save the default index column"
   ]
  },
  {
   "cell_type": "code",
   "execution_count": null,
   "metadata": {
    "tags": []
   },
   "outputs": [],
   "source": [
    "coming_out_df[\"category\"].unique()"
   ]
  },
  {
   "cell_type": "code",
   "execution_count": null,
   "metadata": {
    "tags": []
   },
   "outputs": [],
   "source": [
    "coming_out_df['Post time']"
   ]
  },
  {
   "cell_type": "code",
   "execution_count": null,
   "metadata": {
    "tags": []
   },
   "outputs": [],
   "source": [
    "coming_out_df.head()\n",
    "len(coming_out_df)"
   ]
  },
  {
   "cell_type": "code",
   "execution_count": null,
   "metadata": {
    "tags": []
   },
   "outputs": [],
   "source": [
    "users = coming_out_df['User Name'].unique()\n",
    "len(users)"
   ]
  },
  {
   "cell_type": "code",
   "execution_count": null,
   "metadata": {
    "tags": []
   },
   "outputs": [],
   "source": [
    "date_string = '01/02/2023'\n",
    "date_format = '%m/%d/%Y %H:%M:%S'\n",
    "datetime_object = datetime.strptime(date_string + ' 00:00:00', date_format)\n",
    "\n",
    "filtered_coming_out_df = coming_out_df[coming_out_df['Post time'] < datetime_object]"
   ]
  },
  {
   "cell_type": "code",
   "execution_count": null,
   "metadata": {
    "tags": []
   },
   "outputs": [],
   "source": [
    "len(filtered_coming_out_df)"
   ]
  },
  {
   "cell_type": "code",
   "execution_count": null,
   "metadata": {
    "collapsed": true,
    "jupyter": {
     "outputs_hidden": true
    },
    "tags": []
   },
   "outputs": [],
   "source": [
    "filtered_coming_out_df.head()"
   ]
  },
  {
   "cell_type": "code",
   "execution_count": null,
   "metadata": {
    "tags": []
   },
   "outputs": [],
   "source": [
    "users[0]"
   ]
  },
  {
   "cell_type": "code",
   "execution_count": null,
   "metadata": {
    "tags": []
   },
   "outputs": [],
   "source": [
    "users = coming_out_df['User Name'].unique()\n",
    "submission_comments_table = []\n",
    "column_names = [\"Index\", 'is_post',  \"Subreddit\", \"Post time\", \n",
    "                \"User Name\", \"title\", \"text\",\n",
    "                \"num_comments\", \"score\", \"ups\", \"upvote_ratio\", \n",
    "                \"downs\", 'downvote', 'likes', \n",
    "                \"URL\",  \"category\",  'content_categories', \"over18\"]\n",
    "counter = 0\n",
    "\n",
    "for user in users:\n",
    "    submissions = user.submissions.new(limit=100)\n",
    "\n",
    "    for s in submissions:\n",
    "        counter += 1\n",
    "        submission_comments_table.append([counter, \"yes\", p.subreddit, datetime.utcfromtimestamp(p.created), \n",
    "                            p.author, p.title, p.selftext, \n",
    "                            p.num_comments, p.score, p.ups, p.upvote_ratio, \n",
    "                            p.downs, p.downvote,  p.likes,\n",
    "                            p.permalink, p.category, p.content_categories, p.over_18])\n",
    "\n",
    "    comments = user.comments.new(limit=100)\n",
    "    for c in comments:\n",
    "        counter += 1\n",
    "        submission_comments_table.append([counter, \"no\", p.subreddit, datetime.utcfromtimestamp(p.created), \n",
    "                            p.author, p.title, p.selftext, \n",
    "                            p.num_comments, p.score, p.ups, p.upvote_ratio, \n",
    "                            p.downs, p.downvote,  p.likes,\n",
    "                            p.permalink, p.category, p.content_categories, p.over_18])"
   ]
  },
  {
   "cell_type": "code",
   "execution_count": null,
   "metadata": {
    "tags": []
   },
   "outputs": [],
   "source": [
    "comments_posts_df = pd.DataFrame(submission_comments_table, columns=column_names)"
   ]
  },
  {
   "cell_type": "code",
   "execution_count": null,
   "metadata": {
    "tags": []
   },
   "outputs": [],
   "source": [
    "comments_posts_df.to_csv(\"comments_posts_df.csv\", index=False) # index=False - do not save the default index column"
   ]
  },
  {
   "cell_type": "markdown",
   "metadata": {
    "tags": []
   },
   "source": [
    "Retrieving a lot of elements take time. Reddit allows requests of up to 100 items at once. So if you request <= 100 items PRAW can serve your request in a single API call, but for larger requests PRAW will break it into multiple API calls of 100 items each separated by a small 2 second delay to follow the api guidelines."
   ]
  },
  {
   "cell_type": "markdown",
   "metadata": {
    "tags": []
   },
   "source": [
    "As search can take a while, and the results might change over time, it is useful to save the current results into a csv file.<br>\n",
    "Later we will be able to read the file and analyze the data."
   ]
  },
  {
   "cell_type": "markdown",
   "metadata": {
    "jp-MarkdownHeadingCollapsed": true,
    "tags": []
   },
   "source": [
    "## Loading the data to Pandas and basic analysis"
   ]
  },
  {
   "cell_type": "markdown",
   "metadata": {},
   "source": [
    "Now, let's see what can we learn from the data we retrieved.<br>\n",
    "\n",
    "First, we need to open the csv file we have created. "
   ]
  },
  {
   "cell_type": "code",
   "execution_count": null,
   "metadata": {},
   "outputs": [],
   "source": [
    "import pandas as pd\n",
    "\n",
    "reddit_df = pd.read_csv(\"MyRedditSample.csv\", parse_dates=['Post time'])\n",
    "reddit_df[\"Post text\"] = reddit_df[\"Post text\"].str.replace('\\n','') # removes line breaks from posts\n",
    "reddit_df.head()"
   ]
  },
  {
   "cell_type": "markdown",
   "metadata": {},
   "source": [
    "We can check how many comments each post got and display some statistics."
   ]
  },
  {
   "cell_type": "code",
   "execution_count": null,
   "metadata": {},
   "outputs": [],
   "source": [
    "# count number of rows, grouped by index. we can use any coulmn we want for the counting.\n",
    "comments_df = reddit_df.groupby('Index')[['IsPost']].count()\n",
    "comments_df['IsPost'] = comments_df['IsPost'] - 1 # substracting the post itself from the count\n",
    "print(comments_df[:10])\n",
    "\n",
    "print(\"\\n\")\n",
    "print(\"Minimum comments for post: {}\".format(comments_df['IsPost'].min()))\n",
    "print(\"Maximum comments for post: {}\".format(comments_df['IsPost'].max())) \n",
    "print(\"Mean comments for post: {:.2f}\".format(comments_df['IsPost'].mean()))\n",
    "print(\"Std comments for post: {:.2f}\".format(comments_df['IsPost'].std()))"
   ]
  },
  {
   "cell_type": "markdown",
   "metadata": {
    "jp-MarkdownHeadingCollapsed": true,
    "tags": []
   },
   "source": [
    "## Exercise"
   ]
  },
  {
   "cell_type": "markdown",
   "metadata": {},
   "source": [
    "What are the top 10 subreddits with the highest number of personal guilt expressions?<br>\n",
    "1. For each subreddit count how many posts where retrevied.<br>\n",
    "2. Display the list ordered from max to min."
   ]
  },
  {
   "cell_type": "code",
   "execution_count": null,
   "metadata": {},
   "outputs": [],
   "source": [
    "# Write your code here\n",
    "\n",
    "posts_df = reddit_df[reddit_df.IsPost == 'yes']\n",
    "subreddit_df = posts_df.groupby('Subreddit')[['Index']].count()\n",
    "subreddit_df.sort_values(by = 'Index', ascending = False)[:10]"
   ]
  },
  {
   "cell_type": "markdown",
   "metadata": {},
   "source": [
    "<br><br>"
   ]
  },
  {
   "cell_type": "markdown",
   "metadata": {},
   "source": [
    "## Pushshift.io: Reddit archive"
   ]
  },
  {
   "cell_type": "markdown",
   "metadata": {},
   "source": [
    "[Pushshift.io](https://pushshift.io/) is a Reddit archive designed to provide enhanced functionality and search capabilities for searching Reddit comments and submissions.  "
   ]
  },
  {
   "cell_type": "code",
   "execution_count": 1,
   "metadata": {},
   "outputs": [],
   "source": [
    "import requests\n",
    "\n",
    "def get_pushshift_data(data_type=\"submission\", **kwargs): \n",
    "    \"\"\"\n",
    "    Gets data from the pushshift api.\n",
    " \n",
    "    :data_type: 'submission' or 'comment'\n",
    "    :kwargs: query parameters. The ** allows us to pass any number of keyword arguments\n",
    "    \n",
    "    :return: output in JSON format\n",
    "    \"\"\"\n",
    " \n",
    "    base_url = f'https://api.pushshift.io/reddit/{data_type}/search'\n",
    "\n",
    "    request = requests.get(base_url, params=kwargs)\n",
    "    \n",
    "    if request.status_code != 200: # status == 200 means the request has succeeded\n",
    "        raise Exception(\"HTTP Error code: {}\".format(request.status_code))\n",
    "    \n",
    "    return request.json()['data']"
   ]
  },
  {
   "cell_type": "markdown",
   "metadata": {},
   "source": [
    "#### The main advantage of pushshift: the ability to filter by dates "
   ]
  },
  {
   "cell_type": "markdown",
   "metadata": {},
   "source": [
    "To filter submissions by dates, we use the `after` and `before` parameters.  \n",
    "These parameters get dates in Unix time (also calls epoch time).  \n",
    "Unix time defines a point in time as the number of seconds that have passed since 01/01/1970."
   ]
  },
  {
   "cell_type": "code",
   "execution_count": 2,
   "metadata": {},
   "outputs": [
    {
     "name": "stdout",
     "output_type": "stream",
     "text": [
      "After: 1640988000, Before: 1656536400\n"
     ]
    }
   ],
   "source": [
    "from datetime import datetime\n",
    "before_ts = int(datetime(2022, 6, 30).timestamp())\n",
    "after_ts = int(datetime(2022, 1, 1).timestamp())\n",
    "print(\"After: {}, Before: {}\".format(after_ts, before_ts))"
   ]
  },
  {
   "cell_type": "code",
   "execution_count": 3,
   "metadata": {},
   "outputs": [],
   "source": [
    "import pandas as pd\n",
    "from datetime import datetime\n",
    "\n",
    "# sreddits_names = [\"Comingout\", \"ComingOutSupport\", \"gaybros\", \"howtocomeout\", 'gay']\n",
    "sreddits_names = [\"Comingout\", \"ComingOutSupport\", \"howtocomeout\", 'lgbt']\n",
    "querys = ['\"i came out\"']\n",
    "\n",
    "dfs=[]\n",
    "for subreddit in sreddits_names:\n",
    "    for q in querys:\n",
    "        \n",
    "        posts_data = get_pushshift_data(q=q, subreddit=subreddit, size=1000, sort_type='created_utc', before=before_ts, after=after_ts)\n",
    "        if posts_data != []:\n",
    "            posts_df = pd.DataFrame(posts_data)[['id','subreddit', 'author', 'title', 'selftext', 'permalink', 'utc_datetime_str', 'num_comments'\n",
    "                                                 ,\"score\", 'upvote_ratio']]\n",
    "            dfs.append(posts_df)\n"
   ]
  },
  {
   "cell_type": "code",
   "execution_count": 4,
   "metadata": {},
   "outputs": [
    {
     "data": {
      "text/plain": [
       "1225"
      ]
     },
     "execution_count": 4,
     "metadata": {},
     "output_type": "execute_result"
    }
   ],
   "source": [
    "coming_out_df = pd.concat(dfs, axis=0)\n",
    "len(coming_out_df)"
   ]
  },
  {
   "cell_type": "code",
   "execution_count": 5,
   "metadata": {},
   "outputs": [
    {
     "data": {
      "text/plain": [
       "1131"
      ]
     },
     "execution_count": 5,
     "metadata": {},
     "output_type": "execute_result"
    }
   ],
   "source": [
    "filtered_coming_out = coming_out_df[coming_out_df['author'] != \"[deleted]\"]\n",
    "len(filtered_coming_out)"
   ]
  },
  {
   "cell_type": "code",
   "execution_count": 6,
   "metadata": {},
   "outputs": [],
   "source": [
    "filtered_coming_out.to_csv('coming_out_01-06_22.csv', index=False)"
   ]
  },
  {
   "cell_type": "code",
   "execution_count": 7,
   "metadata": {},
   "outputs": [
    {
     "data": {
      "text/plain": [
       "1059"
      ]
     },
     "execution_count": 7,
     "metadata": {},
     "output_type": "execute_result"
    }
   ],
   "source": [
    "users = filtered_coming_out['author'].unique()\n",
    "len(users)"
   ]
  },
  {
   "cell_type": "code",
   "execution_count": 45,
   "metadata": {},
   "outputs": [],
   "source": [
    "users = filtered_coming_out['author'].unique()\n",
    "users_clean = [x for x in users if '-' not in x]\n",
    "mask = filtered_coming_out['author'].isin(users_clean)\n",
    "final_coming_out = filtered_coming_out[mask]\n",
    "\n",
    "# Save the filtered DataFrame to a CSV file\n",
    "final_coming_out.to_csv('coming_out_01-06_22_filtered.csv', index=False)"
   ]
  },
  {
   "cell_type": "code",
   "execution_count": 8,
   "metadata": {
    "tags": []
   },
   "outputs": [],
   "source": [
    "# filtered_coming_out['selftext'].values[:3]"
   ]
  },
  {
   "cell_type": "code",
   "execution_count": null,
   "metadata": {
    "tags": []
   },
   "outputs": [],
   "source": [
    "# # Find the duplicate 'author' values\n",
    "# # Keep only the rows that don't have duplicate 'author' values\n",
    "# duplicates = filtered_coming_out.duplicated(subset=['author'], keep=False)\n",
    "# filtered_coming_out_unique = filtered_coming_out[~duplicates]\n",
    "# len(filtered_coming_out_unique)"
   ]
  },
  {
   "cell_type": "markdown",
   "metadata": {},
   "source": [
    "## Get users posts from all over reddit"
   ]
  },
  {
   "cell_type": "code",
   "execution_count": 9,
   "metadata": {
    "tags": []
   },
   "outputs": [],
   "source": [
    "def get_confession_date(user, filtered_coming_out):\n",
    "    dates = filtered_coming_out.loc[filtered_coming_out['author'] == user, 'utc_datetime_str'].values\n",
    "    earliest_date_str = min(dates) # Find the earliest date as a string\n",
    "    earliest_date = datetime.strptime(earliest_date_str, '%Y-%m-%d %H:%M:%S')\n",
    "    # Convert the datetime object to a Unix timestamp\n",
    "    timestamp = int(earliest_date.timestamp()) \n",
    "    return timestamp"
   ]
  },
  {
   "cell_type": "code",
   "execution_count": 46,
   "metadata": {},
   "outputs": [],
   "source": [
    "user_activity.to_csv('user_activity.csv', index=False)"
   ]
  },
  {
   "cell_type": "code",
   "execution_count": 12,
   "metadata": {
    "tags": []
   },
   "outputs": [],
   "source": [
    "# users = filtered_coming_out['author'].unique()\n",
    "# userss = [x for x in users if '-' not in x]\n",
    "# user = userss[74]\n",
    "# date_confession = get_confession_date(user, filtered_coming_out_unique)\n",
    "# posts_data = get_pushshift_data(data_type='submission', size=50, sort_type='created_utc', author=user, before=date_confession-1, selftext=\"-[deleted]\")\n",
    "# posts_df = pd.DataFrame(posts_data)[['id','subreddit', 'author', 'title', 'selftext', 'permalink', 'utc_datetime_str', 'num_comments'\n",
    "#                                              ,\"score\", 'over_18']]\n",
    "# posts_df.head()\n"
   ]
  },
  {
   "cell_type": "code",
   "execution_count": 20,
   "metadata": {},
   "outputs": [
    {
     "name": "stderr",
     "output_type": "stream",
     "text": [
      " 55%|███████████████████████████████████████████▋                                    | 521/954 [25:43<21:22,  2.96s/it]\n"
     ]
    },
    {
     "ename": "Exception",
     "evalue": "HTTP Error code: 524",
     "output_type": "error",
     "traceback": [
      "\u001b[1;31m---------------------------------------------------------------------------\u001b[0m",
      "\u001b[1;31mException\u001b[0m                                 Traceback (most recent call last)",
      "\u001b[1;32m~\\AppData\\Local\\Temp\\ipykernel_11232\\2949496559.py\u001b[0m in \u001b[0;36m<module>\u001b[1;34m\u001b[0m\n\u001b[0;32m     16\u001b[0m \u001b[1;33m\u001b[0m\u001b[0m\n\u001b[0;32m     17\u001b[0m     \u001b[1;31m## after\u001b[0m\u001b[1;33m\u001b[0m\u001b[1;33m\u001b[0m\u001b[1;33m\u001b[0m\u001b[0m\n\u001b[1;32m---> 18\u001b[1;33m     \u001b[0mposts_data\u001b[0m \u001b[1;33m=\u001b[0m \u001b[0mget_pushshift_data\u001b[0m\u001b[1;33m(\u001b[0m\u001b[0mdata_type\u001b[0m\u001b[1;33m=\u001b[0m\u001b[1;34m'submission'\u001b[0m\u001b[1;33m,\u001b[0m \u001b[0msize\u001b[0m\u001b[1;33m=\u001b[0m\u001b[1;36m50\u001b[0m\u001b[1;33m,\u001b[0m \u001b[0msort_type\u001b[0m\u001b[1;33m=\u001b[0m\u001b[1;34m'created_utc'\u001b[0m\u001b[1;33m,\u001b[0m \u001b[0mauthor\u001b[0m\u001b[1;33m=\u001b[0m\u001b[0muser\u001b[0m\u001b[1;33m,\u001b[0m \u001b[0mafter\u001b[0m\u001b[1;33m=\u001b[0m\u001b[0mdate_confession\u001b[0m\u001b[1;33m+\u001b[0m\u001b[1;36m1\u001b[0m\u001b[1;33m)\u001b[0m\u001b[1;33m\u001b[0m\u001b[1;33m\u001b[0m\u001b[0m\n\u001b[0m\u001b[0;32m     19\u001b[0m     \u001b[1;32mif\u001b[0m \u001b[0mposts_data\u001b[0m \u001b[1;33m!=\u001b[0m \u001b[1;33m[\u001b[0m\u001b[1;33m]\u001b[0m\u001b[1;33m:\u001b[0m\u001b[1;33m\u001b[0m\u001b[1;33m\u001b[0m\u001b[0m\n\u001b[0;32m     20\u001b[0m         posts_df = pd.DataFrame(posts_data)[['id','subreddit', 'author', 'title', 'selftext', 'permalink', 'utc_datetime_str', 'num_comments'\n",
      "\u001b[1;32m~\\AppData\\Local\\Temp\\ipykernel_11232\\2533738176.py\u001b[0m in \u001b[0;36mget_pushshift_data\u001b[1;34m(data_type, **kwargs)\u001b[0m\n\u001b[0;32m     16\u001b[0m \u001b[1;33m\u001b[0m\u001b[0m\n\u001b[0;32m     17\u001b[0m     \u001b[1;32mif\u001b[0m \u001b[0mrequest\u001b[0m\u001b[1;33m.\u001b[0m\u001b[0mstatus_code\u001b[0m \u001b[1;33m!=\u001b[0m \u001b[1;36m200\u001b[0m\u001b[1;33m:\u001b[0m \u001b[1;31m# status == 200 means the request has succeeded\u001b[0m\u001b[1;33m\u001b[0m\u001b[1;33m\u001b[0m\u001b[0m\n\u001b[1;32m---> 18\u001b[1;33m         \u001b[1;32mraise\u001b[0m \u001b[0mException\u001b[0m\u001b[1;33m(\u001b[0m\u001b[1;34m\"HTTP Error code: {}\"\u001b[0m\u001b[1;33m.\u001b[0m\u001b[0mformat\u001b[0m\u001b[1;33m(\u001b[0m\u001b[0mrequest\u001b[0m\u001b[1;33m.\u001b[0m\u001b[0mstatus_code\u001b[0m\u001b[1;33m)\u001b[0m\u001b[1;33m)\u001b[0m\u001b[1;33m\u001b[0m\u001b[1;33m\u001b[0m\u001b[0m\n\u001b[0m\u001b[0;32m     19\u001b[0m \u001b[1;33m\u001b[0m\u001b[0m\n\u001b[0;32m     20\u001b[0m     \u001b[1;32mreturn\u001b[0m \u001b[0mrequest\u001b[0m\u001b[1;33m.\u001b[0m\u001b[0mjson\u001b[0m\u001b[1;33m(\u001b[0m\u001b[1;33m)\u001b[0m\u001b[1;33m[\u001b[0m\u001b[1;34m'data'\u001b[0m\u001b[1;33m]\u001b[0m\u001b[1;33m\u001b[0m\u001b[1;33m\u001b[0m\u001b[0m\n",
      "\u001b[1;31mException\u001b[0m: HTTP Error code: 524"
     ]
    }
   ],
   "source": [
    "from tqdm import tqdm\n",
    "submission_comments_table = []\n",
    "users = filtered_coming_out['author'].unique()\n",
    "users = [x for x in users if '-' not in x]\n",
    "\n",
    "for user in tqdm(users):\n",
    "    date_confession = get_confession_date(user, filtered_coming_out)\n",
    "    ## before\n",
    "    posts_data = get_pushshift_data(data_type='submission', size=50, sort_type='created_utc', author=user, before=date_confession-1)\n",
    "    if posts_data != []:\n",
    "        posts_df = pd.DataFrame(posts_data)[['id','subreddit', 'author', 'title', 'selftext', 'permalink', 'utc_datetime_str', 'num_comments'\n",
    "                                             ,\"score\", 'over_18']]\n",
    "        posts_df['is_post'] = 'yes'\n",
    "        posts_df['is_before'] = 'yes'\n",
    "        submission_comments_table.append(posts_df)\n",
    "        \n",
    "    ## after\n",
    "    posts_data = get_pushshift_data(data_type='submission', size=50, sort_type='created_utc', author=user, after=date_confession+1)\n",
    "    if posts_data != []:\n",
    "        posts_df = pd.DataFrame(posts_data)[['id','subreddit', 'author', 'title', 'selftext', 'permalink', 'utc_datetime_str', 'num_comments'\n",
    "                                             ,\"score\", 'over_18']]\n",
    "        posts_df['is_post'] = 'yes'\n",
    "        posts_df['is_before'] = 'no'\n",
    "        submission_comments_table.append(posts_df)"
   ]
  },
  {
   "cell_type": "code",
   "execution_count": 21,
   "metadata": {},
   "outputs": [
    {
     "data": {
      "text/plain": [
       "943"
      ]
     },
     "execution_count": 21,
     "metadata": {},
     "output_type": "execute_result"
    }
   ],
   "source": [
    "len(submission_comments_table)"
   ]
  },
  {
   "cell_type": "code",
   "execution_count": 22,
   "metadata": {
    "tags": []
   },
   "outputs": [],
   "source": [
    "user_activity = pd.concat(submission_comments_table, axis=0)"
   ]
  },
  {
   "cell_type": "code",
   "execution_count": 23,
   "metadata": {
    "tags": []
   },
   "outputs": [
    {
     "data": {
      "text/plain": [
       "526"
      ]
     },
     "execution_count": 23,
     "metadata": {},
     "output_type": "execute_result"
    }
   ],
   "source": [
    "len(user_activity['author'].unique())"
   ]
  },
  {
   "cell_type": "code",
   "execution_count": 24,
   "metadata": {},
   "outputs": [
    {
     "data": {
      "text/plain": [
       "20071"
      ]
     },
     "execution_count": 24,
     "metadata": {},
     "output_type": "execute_result"
    }
   ],
   "source": [
    "len(user_activity)"
   ]
  },
  {
   "cell_type": "markdown",
   "metadata": {},
   "source": [
    "### Analysing Data collected"
   ]
  },
  {
   "cell_type": "code",
   "execution_count": 42,
   "metadata": {},
   "outputs": [],
   "source": [
    "import pandas as pd\n",
    "user_activity = pd.read_csv('user_activity_filtered.csv')"
   ]
  },
  {
   "cell_type": "code",
   "execution_count": 17,
   "metadata": {
    "tags": []
   },
   "outputs": [],
   "source": [
    "# number of posts of each subreddit\n",
    "subreddit_df = user_activity.groupby('subreddit')[['id']].count()\n",
    "values = subreddit_df.sort_values(by = 'id', ascending = False)\n",
    "# values = subreddit_df.sort_values(by = 'id', ascending = False).values\n",
    "subreddit_names = values.index.tolist()\n",
    "# Convert the list of subreddit names to a DataFrame with a single column 'subreddit'\n",
    "subreddit_names_df = pd.DataFrame({'subreddit': subreddit_names})\n",
    "# Save the DataFrame to a CSV file\n",
    "subreddit_names_df.to_csv('subreddit_names.csv', index=False)"
   ]
  },
  {
   "cell_type": "code",
   "execution_count": 58,
   "metadata": {},
   "outputs": [],
   "source": [
    "subreddits_to_filter = pd.read_csv('subreddits_to_filter.csv')['subreddits'].values\n",
    "filtered_user_activity = user_activity[~user_activity['subreddit'].isin(subreddits_to_filter)]"
   ]
  },
  {
   "cell_type": "code",
   "execution_count": 59,
   "metadata": {
    "tags": []
   },
   "outputs": [],
   "source": [
    "clean_users_activity = filtered_user_activity[(filtered_user_activity.selftext != '') & (filtered_user_activity.selftext != '[removed]') & (filtered_user_activity.selftext != '[deleted]')]"
   ]
  },
  {
   "cell_type": "code",
   "execution_count": 45,
   "metadata": {
    "tags": []
   },
   "outputs": [
    {
     "data": {
      "text/plain": [
       "6001"
      ]
     },
     "execution_count": 45,
     "metadata": {},
     "output_type": "execute_result"
    }
   ],
   "source": [
    "clean_users_activity.shape[0]"
   ]
  },
  {
   "cell_type": "code",
   "execution_count": 60,
   "metadata": {
    "tags": []
   },
   "outputs": [
    {
     "data": {
      "text/plain": [
       "242"
      ]
     },
     "execution_count": 60,
     "metadata": {},
     "output_type": "execute_result"
    }
   ],
   "source": [
    "len(clean_users_activity['author'].unique())"
   ]
  },
  {
   "cell_type": "markdown",
   "metadata": {
    "tags": []
   },
   "source": [
    "## Plot post distribution"
   ]
  },
  {
   "cell_type": "code",
   "execution_count": 23,
   "metadata": {
    "tags": []
   },
   "outputs": [
    {
     "data": {
      "image/png": "[encoded data removed]",
      "text/plain": [
       "<Figure size 640x480 with 1 Axes>"
      ]
     },
     "metadata": {},
     "output_type": "display_data"
    }
   ],
   "source": [
    "# Create the histogram\n",
    "import matplotlib.pyplot as plt\n",
    "\n",
    "users = clean_users_activity['author'].unique()\n",
    "users = [x for x in users if '-' not in x]\n",
    "counts = []\n",
    "for user in users:\n",
    "    count = clean_users_activity[clean_users_activity.author == user].shape[0]\n",
    "    counts.append(count)\n",
    "\n",
    "plt.hist(counts, bins=50)\n",
    "\n",
    "# Set the plot title and axis labels\n",
    "plt.title('Histogram of # posts per user')\n",
    "\n",
    "plt.xlabel('Number of Posts')\n",
    "plt.ylabel('Frequency')\n",
    "\n",
    "# Show the plot\n",
    "plt.show()"
   ]
  },
  {
   "cell_type": "markdown",
   "metadata": {},
   "source": [
    "### Compute activity before and after confession"
   ]
  },
  {
   "cell_type": "code",
   "execution_count": 61,
   "metadata": {},
   "outputs": [],
   "source": [
    "filtered_coming_out = pd.read_csv('coming_out_01-06_21.csv')"
   ]
  },
  {
   "cell_type": "code",
   "execution_count": 35,
   "metadata": {},
   "outputs": [
    {
     "data": {
      "text/html": [
       "<div>\n",
       "<style scoped>\n",
       "    .dataframe tbody tr th:only-of-type {\n",
       "        vertical-align: middle;\n",
       "    }\n",
       "\n",
       "    .dataframe tbody tr th {\n",
       "        vertical-align: top;\n",
       "    }\n",
       "\n",
       "    .dataframe thead th {\n",
       "        text-align: right;\n",
       "    }\n",
       "</style>\n",
       "<table border=\"1\" class=\"dataframe\">\n",
       "  <thead>\n",
       "    <tr style=\"text-align: right;\">\n",
       "      <th></th>\n",
       "      <th>id</th>\n",
       "      <th>subreddit</th>\n",
       "      <th>author</th>\n",
       "      <th>title</th>\n",
       "      <th>selftext</th>\n",
       "      <th>permalink</th>\n",
       "      <th>utc_datetime_str</th>\n",
       "      <th>num_comments</th>\n",
       "      <th>score</th>\n",
       "      <th>upvote_ratio</th>\n",
       "    </tr>\n",
       "  </thead>\n",
       "  <tbody>\n",
       "    <tr>\n",
       "      <th>0</th>\n",
       "      <td>vncsjn</td>\n",
       "      <td>comingout</td>\n",
       "      <td>Maliaisobsessed</td>\n",
       "      <td>Coming out as bi</td>\n",
       "      <td>So I made the difficult decision today to come...</td>\n",
       "      <td>/r/comingout/comments/vncsjn/coming_out_as_bi/</td>\n",
       "      <td>2022-06-29 10:41:46</td>\n",
       "      <td>0</td>\n",
       "      <td>4</td>\n",
       "      <td>0.84</td>\n",
       "    </tr>\n",
       "    <tr>\n",
       "      <th>1</th>\n",
       "      <td>vn4lwv</td>\n",
       "      <td>comingout</td>\n",
       "      <td>Apple4Toast</td>\n",
       "      <td>I came out but they don’t believe me</td>\n",
       "      <td>I am a 19(f) I recently came out to my sister ...</td>\n",
       "      <td>/r/comingout/comments/vn4lwv/i_came_out_but_th...</td>\n",
       "      <td>2022-06-29 02:28:53</td>\n",
       "      <td>10</td>\n",
       "      <td>87</td>\n",
       "      <td>0.99</td>\n",
       "    </tr>\n",
       "    <tr>\n",
       "      <th>2</th>\n",
       "      <td>vn2l7f</td>\n",
       "      <td>comingout</td>\n",
       "      <td>Bitter-Ad-3063</td>\n",
       "      <td>I’m gay and feel like suicide is my only optio...</td>\n",
       "      <td>\\nHi,\\n\\nMy entire life I’ve really been the g...</td>\n",
       "      <td>/r/comingout/comments/vn2l7f/im_gay_and_feel_l...</td>\n",
       "      <td>2022-06-29 00:47:23</td>\n",
       "      <td>3</td>\n",
       "      <td>18</td>\n",
       "      <td>1.00</td>\n",
       "    </tr>\n",
       "    <tr>\n",
       "      <th>3</th>\n",
       "      <td>vmbwy9</td>\n",
       "      <td>comingout</td>\n",
       "      <td>ComeOutAndThrowAway</td>\n",
       "      <td>I'm planning on coming out to my parents, but ...</td>\n",
       "      <td>I am 16F, and for awhile I've known I wasn't l...</td>\n",
       "      <td>/r/comingout/comments/vmbwy9/im_planning_on_co...</td>\n",
       "      <td>2022-06-28 02:14:49</td>\n",
       "      <td>1</td>\n",
       "      <td>2</td>\n",
       "      <td>1.00</td>\n",
       "    </tr>\n",
       "    <tr>\n",
       "      <th>4</th>\n",
       "      <td>vm71sf</td>\n",
       "      <td>comingout</td>\n",
       "      <td>Smilingtribute</td>\n",
       "      <td>Should I come out to my mum (again) as bi</td>\n",
       "      <td>Hi. I came out to my mum when I was seventeen ...</td>\n",
       "      <td>/r/comingout/comments/vm71sf/should_i_come_out...</td>\n",
       "      <td>2022-06-27 22:18:39</td>\n",
       "      <td>1</td>\n",
       "      <td>13</td>\n",
       "      <td>1.00</td>\n",
       "    </tr>\n",
       "  </tbody>\n",
       "</table>\n",
       "</div>"
      ],
      "text/plain": [
       "       id  subreddit               author  \\\n",
       "0  vncsjn  comingout      Maliaisobsessed   \n",
       "1  vn4lwv  comingout          Apple4Toast   \n",
       "2  vn2l7f  comingout       Bitter-Ad-3063   \n",
       "3  vmbwy9  comingout  ComeOutAndThrowAway   \n",
       "4  vm71sf  comingout       Smilingtribute   \n",
       "\n",
       "                                               title  \\\n",
       "0                                   Coming out as bi   \n",
       "1               I came out but they don’t believe me   \n",
       "2  I’m gay and feel like suicide is my only optio...   \n",
       "3  I'm planning on coming out to my parents, but ...   \n",
       "4          Should I come out to my mum (again) as bi   \n",
       "\n",
       "                                            selftext  \\\n",
       "0  So I made the difficult decision today to come...   \n",
       "1  I am a 19(f) I recently came out to my sister ...   \n",
       "2  \\nHi,\\n\\nMy entire life I’ve really been the g...   \n",
       "3  I am 16F, and for awhile I've known I wasn't l...   \n",
       "4  Hi. I came out to my mum when I was seventeen ...   \n",
       "\n",
       "                                           permalink     utc_datetime_str  \\\n",
       "0     /r/comingout/comments/vncsjn/coming_out_as_bi/  2022-06-29 10:41:46   \n",
       "1  /r/comingout/comments/vn4lwv/i_came_out_but_th...  2022-06-29 02:28:53   \n",
       "2  /r/comingout/comments/vn2l7f/im_gay_and_feel_l...  2022-06-29 00:47:23   \n",
       "3  /r/comingout/comments/vmbwy9/im_planning_on_co...  2022-06-28 02:14:49   \n",
       "4  /r/comingout/comments/vm71sf/should_i_come_out...  2022-06-27 22:18:39   \n",
       "\n",
       "   num_comments  score  upvote_ratio  \n",
       "0             0      4          0.84  \n",
       "1            10     87          0.99  \n",
       "2             3     18          1.00  \n",
       "3             1      2          1.00  \n",
       "4             1     13          1.00  "
      ]
     },
     "execution_count": 35,
     "metadata": {},
     "output_type": "execute_result"
    }
   ],
   "source": [
    "filtered_coming_out.head()"
   ]
  },
  {
   "cell_type": "code",
   "execution_count": 62,
   "metadata": {
    "tags": []
   },
   "outputs": [],
   "source": [
    "from datetime import datetime\n",
    "def get_confession_date(user, filtered_coming_out):\n",
    "    dates = filtered_coming_out.loc[filtered_coming_out['author'] == user, 'utc_datetime_str'].values\n",
    "    earliest_date_str = min(dates) # Find the earliest date as a string\n",
    "    earliest_date = datetime.strptime(earliest_date_str, '%Y-%m-%d %H:%M:%S')\n",
    "    # Convert the datetime object to a Unix timestamp\n",
    "    timestamp = int(earliest_date.timestamp()) \n",
    "    return earliest_date"
   ]
  },
  {
   "cell_type": "code",
   "execution_count": 63,
   "metadata": {},
   "outputs": [],
   "source": [
    "users = clean_users_activity['author'].unique()\n",
    "users = [x for x in users if '-' not in x]"
   ]
  },
  {
   "cell_type": "code",
   "execution_count": 64,
   "metadata": {
    "tags": []
   },
   "outputs": [],
   "source": [
    "# Convert the 'utc_datetime_str' column to a datetime object\n",
    "# filtered_coming_out['utc_datetime_str'] = pd.to_datetime(filtered_coming_out['utc_datetime_str'])\n",
    "\n",
    "# Initialize empty lists to store the before and after counts for each user\n",
    "before_counts = []\n",
    "after_counts = []\n",
    "clean_users_activity['utc_datetime_str'] = pd.to_datetime(clean_users_activity['utc_datetime_str'])\n",
    "bad_users = []\n",
    "threshold = 3\n",
    "# Loop through each user in the 'author' column\n",
    "for user in users:\n",
    "    if user not in filtered_coming_out.author.unique():\n",
    "        continue\n",
    "    # Filter the user_activity DataFrame to include only rows for the current user\n",
    "    user_df = clean_users_activity[clean_users_activity['author'] == user]\n",
    "    date_confession = get_confession_date(user, filtered_coming_out)\n",
    "\n",
    "    # Count the number of posts and comments before and after the 'utc_datetime_str' value for the current user\n",
    "    before_count = user_df[user_df['utc_datetime_str'] < date_confession ].shape[0]\n",
    "    after_count = user_df[user_df['utc_datetime_str'] >= date_confession].shape[0]\n",
    "    \n",
    "    # Append the counts to the before_counts and after_counts lists\n",
    "    before_counts.append(before_count)\n",
    "    after_counts.append(after_count)\n",
    "    if before_count < threshold or after_count < threshold:\n",
    "        bad_users.append(user)"
   ]
  },
  {
   "cell_type": "code",
   "execution_count": 65,
   "metadata": {
    "tags": []
   },
   "outputs": [
    {
     "data": {
      "text/plain": [
       "53"
      ]
     },
     "execution_count": 65,
     "metadata": {},
     "output_type": "execute_result"
    }
   ],
   "source": [
    "len(bad_users)"
   ]
  },
  {
   "cell_type": "code",
   "execution_count": 66,
   "metadata": {
    "tags": []
   },
   "outputs": [
    {
     "name": "stdout",
     "output_type": "stream",
     "text": [
      "189\n"
     ]
    }
   ],
   "source": [
    "mask = clean_users_activity['author'].isin(bad_users)\n",
    "clean_good_users_activity = clean_users_activity[~mask]\n",
    "good_users = clean_good_users_activity[\"author\"].unique()\n",
    "print(len(good_users))"
   ]
  },
  {
   "cell_type": "code",
   "execution_count": 67,
   "metadata": {
    "tags": []
   },
   "outputs": [],
   "source": [
    "# Convert the 'utc_datetime_str' column to a datetime object\n",
    "# filtered_coming_out['utc_datetime_str'] = pd.to_datetime(filtered_coming_out['utc_datetime_str'])\n",
    "\n",
    "# Initialize empty lists to store the before and after counts for each user\n",
    "before_counts = []\n",
    "after_counts = []\n",
    "# Loop through each user in the 'author' column\n",
    "for user in good_users:\n",
    "    # Filter the user_activity DataFrame to include only rows for the current user\n",
    "    user_df = clean_good_users_activity[clean_good_users_activity['author'] == user]\n",
    "    if user not in filtered_coming_out['author'].unique():\n",
    "        continue\n",
    "    date_confession = get_confession_date(user, filtered_coming_out)\n",
    "\n",
    "    # Count the number of posts and comments before and after the 'utc_datetime_str' value for the current user\n",
    "    before_count = user_df[user_df['utc_datetime_str'] < date_confession ].shape[0]\n",
    "    after_count = user_df[user_df['utc_datetime_str'] >= date_confession].shape[0]\n",
    "    \n",
    "    # Append the counts to the before_counts and after_counts lists\n",
    "    before_counts.append(before_count)\n",
    "    after_counts.append(after_count)"
   ]
  },
  {
   "cell_type": "code",
   "execution_count": 68,
   "metadata": {
    "tags": []
   },
   "outputs": [],
   "source": [
    "mask = clean_good_users_activity['author'].isin(filtered_coming_out['author'].unique())\n",
    "final_clean_user_activity = clean_good_users_activity[mask]"
   ]
  },
  {
   "cell_type": "code",
   "execution_count": 69,
   "metadata": {
    "tags": []
   },
   "outputs": [
    {
     "data": {
      "text/plain": [
       "5466"
      ]
     },
     "execution_count": 69,
     "metadata": {},
     "output_type": "execute_result"
    }
   ],
   "source": [
    "final_clean_user_activity.shape[0]"
   ]
  },
  {
   "cell_type": "code",
   "execution_count": 70,
   "metadata": {
    "tags": []
   },
   "outputs": [
    {
     "name": "stdout",
     "output_type": "stream",
     "text": [
      "#posts per subreddit\n"
     ]
    },
    {
     "data": {
      "text/html": [
       "<div>\n",
       "<style scoped>\n",
       "    .dataframe tbody tr th:only-of-type {\n",
       "        vertical-align: middle;\n",
       "    }\n",
       "\n",
       "    .dataframe tbody tr th {\n",
       "        vertical-align: top;\n",
       "    }\n",
       "\n",
       "    .dataframe thead th {\n",
       "        text-align: right;\n",
       "    }\n",
       "</style>\n",
       "<table border=\"1\" class=\"dataframe\">\n",
       "  <thead>\n",
       "    <tr style=\"text-align: right;\">\n",
       "      <th></th>\n",
       "      <th>id</th>\n",
       "    </tr>\n",
       "    <tr>\n",
       "      <th>subreddit</th>\n",
       "      <th></th>\n",
       "    </tr>\n",
       "  </thead>\n",
       "  <tbody>\n",
       "    <tr>\n",
       "      <th>teenagers</th>\n",
       "      <td>192</td>\n",
       "    </tr>\n",
       "    <tr>\n",
       "      <th>autism</th>\n",
       "      <td>126</td>\n",
       "    </tr>\n",
       "    <tr>\n",
       "      <th>comingout</th>\n",
       "      <td>73</td>\n",
       "    </tr>\n",
       "    <tr>\n",
       "      <th>Advice</th>\n",
       "      <td>71</td>\n",
       "    </tr>\n",
       "    <tr>\n",
       "      <th>offmychest</th>\n",
       "      <td>70</td>\n",
       "    </tr>\n",
       "    <tr>\n",
       "      <th>OCPoetry</th>\n",
       "      <td>65</td>\n",
       "    </tr>\n",
       "    <tr>\n",
       "      <th>polls</th>\n",
       "      <td>64</td>\n",
       "    </tr>\n",
       "    <tr>\n",
       "      <th>relationship_advice</th>\n",
       "      <td>57</td>\n",
       "    </tr>\n",
       "    <tr>\n",
       "      <th>NoStupidQuestions</th>\n",
       "      <td>49</td>\n",
       "    </tr>\n",
       "    <tr>\n",
       "      <th>mentalhealth</th>\n",
       "      <td>44</td>\n",
       "    </tr>\n",
       "    <tr>\n",
       "      <th>Diary</th>\n",
       "      <td>41</td>\n",
       "    </tr>\n",
       "    <tr>\n",
       "      <th>AmItheAsshole</th>\n",
       "      <td>36</td>\n",
       "    </tr>\n",
       "    <tr>\n",
       "      <th>aromantic</th>\n",
       "      <td>35</td>\n",
       "    </tr>\n",
       "    <tr>\n",
       "      <th>Vent</th>\n",
       "      <td>34</td>\n",
       "    </tr>\n",
       "    <tr>\n",
       "      <th>selfharm</th>\n",
       "      <td>33</td>\n",
       "    </tr>\n",
       "    <tr>\n",
       "      <th>TrueOffMyChest</th>\n",
       "      <td>32</td>\n",
       "    </tr>\n",
       "    <tr>\n",
       "      <th>AskDocs</th>\n",
       "      <td>32</td>\n",
       "    </tr>\n",
       "    <tr>\n",
       "      <th>aaaaaaacccccccce</th>\n",
       "      <td>31</td>\n",
       "    </tr>\n",
       "    <tr>\n",
       "      <th>SuicideWatch</th>\n",
       "      <td>29</td>\n",
       "    </tr>\n",
       "    <tr>\n",
       "      <th>depression</th>\n",
       "      <td>29</td>\n",
       "    </tr>\n",
       "    <tr>\n",
       "      <th>piscesastrology</th>\n",
       "      <td>28</td>\n",
       "    </tr>\n",
       "    <tr>\n",
       "      <th>Teachers</th>\n",
       "      <td>27</td>\n",
       "    </tr>\n",
       "    <tr>\n",
       "      <th>OCD</th>\n",
       "      <td>27</td>\n",
       "    </tr>\n",
       "    <tr>\n",
       "      <th>AmberlynnReidYT</th>\n",
       "      <td>27</td>\n",
       "    </tr>\n",
       "    <tr>\n",
       "      <th>Anxiety</th>\n",
       "      <td>27</td>\n",
       "    </tr>\n",
       "    <tr>\n",
       "      <th>CasualConversation</th>\n",
       "      <td>26</td>\n",
       "    </tr>\n",
       "    <tr>\n",
       "      <th>exmormon</th>\n",
       "      <td>26</td>\n",
       "    </tr>\n",
       "    <tr>\n",
       "      <th>medical</th>\n",
       "      <td>24</td>\n",
       "    </tr>\n",
       "    <tr>\n",
       "      <th>highspeedrail</th>\n",
       "      <td>22</td>\n",
       "    </tr>\n",
       "    <tr>\n",
       "      <th>Scorpio</th>\n",
       "      <td>21</td>\n",
       "    </tr>\n",
       "    <tr>\n",
       "      <th>dating_advice</th>\n",
       "      <td>21</td>\n",
       "    </tr>\n",
       "    <tr>\n",
       "      <th>raisedbynarcissists</th>\n",
       "      <td>21</td>\n",
       "    </tr>\n",
       "    <tr>\n",
       "      <th>TooAfraidToAsk</th>\n",
       "      <td>21</td>\n",
       "    </tr>\n",
       "    <tr>\n",
       "      <th>TheOwlHouse</th>\n",
       "      <td>20</td>\n",
       "    </tr>\n",
       "    <tr>\n",
       "      <th>rant</th>\n",
       "      <td>20</td>\n",
       "    </tr>\n",
       "    <tr>\n",
       "      <th>emetophobia</th>\n",
       "      <td>20</td>\n",
       "    </tr>\n",
       "    <tr>\n",
       "      <th>sad</th>\n",
       "      <td>19</td>\n",
       "    </tr>\n",
       "    <tr>\n",
       "      <th>trees</th>\n",
       "      <td>19</td>\n",
       "    </tr>\n",
       "    <tr>\n",
       "      <th>tipofmytongue</th>\n",
       "      <td>19</td>\n",
       "    </tr>\n",
       "    <tr>\n",
       "      <th>antiwork</th>\n",
       "      <td>18</td>\n",
       "    </tr>\n",
       "    <tr>\n",
       "      <th>troubledteens</th>\n",
       "      <td>18</td>\n",
       "    </tr>\n",
       "    <tr>\n",
       "      <th>piercing</th>\n",
       "      <td>18</td>\n",
       "    </tr>\n",
       "    <tr>\n",
       "      <th>pokemon</th>\n",
       "      <td>18</td>\n",
       "    </tr>\n",
       "    <tr>\n",
       "      <th>eating_disorders</th>\n",
       "      <td>16</td>\n",
       "    </tr>\n",
       "    <tr>\n",
       "      <th>Minecraft</th>\n",
       "      <td>16</td>\n",
       "    </tr>\n",
       "    <tr>\n",
       "      <th>Tinder</th>\n",
       "      <td>16</td>\n",
       "    </tr>\n",
       "    <tr>\n",
       "      <th>BPD</th>\n",
       "      <td>16</td>\n",
       "    </tr>\n",
       "    <tr>\n",
       "      <th>techsupport</th>\n",
       "      <td>16</td>\n",
       "    </tr>\n",
       "    <tr>\n",
       "      <th>DnD</th>\n",
       "      <td>16</td>\n",
       "    </tr>\n",
       "    <tr>\n",
       "      <th>TwoSentenceHorror</th>\n",
       "      <td>15</td>\n",
       "    </tr>\n",
       "  </tbody>\n",
       "</table>\n",
       "</div>"
      ],
      "text/plain": [
       "                      id\n",
       "subreddit               \n",
       "teenagers            192\n",
       "autism               126\n",
       "comingout             73\n",
       "Advice                71\n",
       "offmychest            70\n",
       "OCPoetry              65\n",
       "polls                 64\n",
       "relationship_advice   57\n",
       "NoStupidQuestions     49\n",
       "mentalhealth          44\n",
       "Diary                 41\n",
       "AmItheAsshole         36\n",
       "aromantic             35\n",
       "Vent                  34\n",
       "selfharm              33\n",
       "TrueOffMyChest        32\n",
       "AskDocs               32\n",
       "aaaaaaacccccccce      31\n",
       "SuicideWatch          29\n",
       "depression            29\n",
       "piscesastrology       28\n",
       "Teachers              27\n",
       "OCD                   27\n",
       "AmberlynnReidYT       27\n",
       "Anxiety               27\n",
       "CasualConversation    26\n",
       "exmormon              26\n",
       "medical               24\n",
       "highspeedrail         22\n",
       "Scorpio               21\n",
       "dating_advice         21\n",
       "raisedbynarcissists   21\n",
       "TooAfraidToAsk        21\n",
       "TheOwlHouse           20\n",
       "rant                  20\n",
       "emetophobia           20\n",
       "sad                   19\n",
       "trees                 19\n",
       "tipofmytongue         19\n",
       "antiwork              18\n",
       "troubledteens         18\n",
       "piercing              18\n",
       "pokemon               18\n",
       "eating_disorders      16\n",
       "Minecraft             16\n",
       "Tinder                16\n",
       "BPD                   16\n",
       "techsupport           16\n",
       "DnD                   16\n",
       "TwoSentenceHorror     15"
      ]
     },
     "execution_count": 70,
     "metadata": {},
     "output_type": "execute_result"
    }
   ],
   "source": [
    "# number of posts of each subreddit\n",
    "subreddit_df = final_clean_user_activity.groupby(['subreddit'])[['id']].count()\n",
    "print('#posts per subreddit')\n",
    "subreddit_df.sort_values(by = 'id', ascending = False)[:50]"
   ]
  },
  {
   "cell_type": "code",
   "execution_count": 71,
   "metadata": {
    "tags": []
   },
   "outputs": [],
   "source": [
    "final_clean_user_activity.to_csv('user_activity_filtered2.csv', index=False)"
   ]
  },
  {
   "cell_type": "code",
   "execution_count": 72,
   "metadata": {
    "tags": []
   },
   "outputs": [
    {
     "data": {
      "image/png": "[encoded data removed]",
      "text/plain": [
       "<Figure size 1000x500 with 2 Axes>"
      ]
     },
     "metadata": {},
     "output_type": "display_data"
    }
   ],
   "source": [
    "import matplotlib.pyplot as plt\n",
    "\n",
    "# Create a figure with two subplots\n",
    "fig, axs = plt.subplots(1, 2, figsize=(10, 5))\n",
    "\n",
    "# Plot a histogram of the 'before' column in the first subplot\n",
    "axs[0].hist(before_counts, bins=20)\n",
    "axs[0].set_title('# posts before Coming Out')\n",
    "\n",
    "axs[0].set_xlabel('Number of Posts')\n",
    "axs[0].set_ylabel('Number of Users')\n",
    "\n",
    "# Plot a histogram of the 'after' column in the second subplot\n",
    "axs[1].hist(after_counts, bins=20)\n",
    "axs[1].set_title('# posts after Coming Out')\n",
    "axs[1].set_xlabel('Number of Posts')\n",
    "axs[1].set_ylabel('Number of Users')\n",
    "plt.suptitle('Filtered user with at least 3 posts before+after')\n",
    "# Show the plot\n",
    "plt.show()"
   ]
  },
  {
   "cell_type": "markdown",
   "metadata": {},
   "source": [
    "## analyse posts"
   ]
  },
  {
   "cell_type": "code",
   "execution_count": 5,
   "metadata": {
    "tags": []
   },
   "outputs": [
    {
     "data": {
      "text/plain": [
       "array(['Hi everyone!\\n\\nI was trying to fix my resume to make it a lot more appealing and neater. I managed to fix it due to a YouTube video! However, it’s two pages long. I know it’s recommended to have one page but with the number of credits, I’ve got is quite a lot. I cut out all the stuff I did in high school. However. I can’t squeeze it into one page. \\n\\nI have listed it like theatre, short films, commercials, podcasts, rehearsed readings, workshops (for a new production), online productions etc. I’ve also got one credit on there that got cancelled because of COVID, rehearsals did start. However, we didn’t perform it. Does anyone have tips to fix this?! I don’t want to remove any of my college credits and things I do with my Young Company group.\\n\\nEdit: I’ve listed my skills, height and contact information  etc. on top with my headshot. I’m in the UK.',\n",
       "       'Hi. \\n\\nI barely post on here but I just had a full on breakdown at work today in front of my supervisors. No customers saw me get upset though. My supervisor was snapping at me because I forgot to do some simple stuff. Like my anxiety has been getting worse over the week due to uni deadlines and things are going wrong for me. I’ve also found out that my mum needs a liver transplant, so I need to take care of her as she’s got liver cancer but she’s getting surgery. \\n\\nMy dad barely helps (me and my mum do all the chores) and calls her &amp; me every name under the sun. I like to keep things to myself but my sister dying back in January doesn’t help. I feel like things are getting worse. I’ve got dyspraxia, so that adds to my anxiety. I’m all good now but I’m embarrassed that I broke down in tears in front of people when I’m never like this. I’m usually very cheery and nice. I had to go to the bathroom and calm down',\n",
       "       'Hi! I’ve recently just started to watch Wandavision after getting Disney+ in January. I noticed in the third episode Wanda is talking and she’s about to say something, then it cuts to Vision talking about anxiety on what she just said but it doesn’t make sense on what she just said. It’s around the 9 min mark. (UK Disney+ btw) does this happen for everyone?\\n\\nEdit: oops, didn’t realise guys. Thank you, haha. I’m on EP5 right now',\n",
       "       'Hey everyone.\\n\\nI saw an open call for a casting director on Twitter who has worked on big British programs &amp; Netflix shows. Emailed all my details in the evening and I got a reply this morning. I’ve never had this before. It’s just an introduction video of myself (30 seconds) but I’m quite nervous! Don’t know why.\\n\\nDespite just getting a reply. I call that a big success',\n",
       "       'I am graduating from university next year and I’m just thinking about my current job. My current job is great, I work in retail but I only work weekends which gives me 5 days off per week to focus on other things. Plus, I can pick up any shifts whenever they need help during the weekday. However, I’m a bit worried that this isn’t classed as a survival job once I graduate as I have to get 4 weeks notice for holidays. I love my weekend job, to be honest. It’s easy to work. I also volunteer in front of house in a local theatre but don’t get paid but you can pick up any shifts when you are free.\\n\\nI’ve been thinking, maybe going to do a social media manager course as that sounds quite a good flexible job but I like going out of the house for work. I don’t think working in a restaurant for me as I have dyspraxia which made me clumsy. Do you think I should just stick with my jobs once I graduate or can you recommend something else?'],\n",
       "      dtype=object)"
      ]
     },
     "execution_count": 5,
     "metadata": {},
     "output_type": "execute_result"
    }
   ],
   "source": [
    "import pandas as pd\n",
    "\n",
    "final_clean_user_activity = pd.read_csv(\"user_activity_filtered2.csv\")\n",
    "\n",
    "final_clean_user_activity[\"selftext\"].values[:5]"
   ]
  },
  {
   "cell_type": "code",
   "execution_count": null,
   "metadata": {},
   "outputs": [],
   "source": [
    "## more filters : polls, comming out"
   ]
  }
 ],
 "metadata": {
  "kernelspec": {
   "display_name": "Python 3 (ipykernel)",
   "language": "python",
   "name": "python3"
  },
  "language_info": {
   "codemirror_mode": {
    "name": "ipython",
    "version": 3
   },
   "file_extension": ".py",
   "mimetype": "text/x-python",
   "name": "python",
   "nbconvert_exporter": "python",
   "pygments_lexer": "ipython3",
   "version": "3.10.4"
  }
 },
 "nbformat": 4,
 "nbformat_minor": 4
}
